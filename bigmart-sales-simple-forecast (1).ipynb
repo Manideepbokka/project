{
 "cells": [
  {
   "cell_type": "markdown",
   "metadata": {
    "papermill": {
     "duration": 0.072775,
     "end_time": "2021-08-17T05:58:20.439586",
     "exception": false,
     "start_time": "2021-08-17T05:58:20.366811",
     "status": "completed"
    },
    "tags": []
   },
   "source": [
    "# Introduction"
   ]
  },
  {
   "cell_type": "markdown",
   "metadata": {
    "papermill": {
     "duration": 0.072504,
     "end_time": "2021-08-17T05:58:20.585214",
     "exception": false,
     "start_time": "2021-08-17T05:58:20.512710",
     "status": "completed"
    },
    "tags": []
   },
   "source": [
    "This notebook analyzes customer behavior for that we have BigMarts Sales data collected in 2013 which is bifurcated in train (8523 records & 12 attributes) and test (5681 records & 11 attributes) data set, train data set has both independant and dependant variable(s) given below\n",
    "\n",
    "* Item_Identifier: Product ID\n",
    "* Item_Weight: Weight of Product\n",
    "* Item_Fat_Content: Fat content of Product- Low/Regular\n",
    "* Item_Visibility: Parameter to know the visiblity/reach of product\n",
    "* Item_Type: Category of Product\n",
    "* Item_MRP: Maximum Retail Price of the Product\n",
    "* Outlet_Identifier: Store ID\n",
    "* Outlet_Establishment_Year: The Year in which store is established\n",
    "* Outlet_Size: Areawise distribution of Stores- Low/Medium/High\n",
    "* Outlet_Location_Type: Type of city in which outlet is located\n",
    "* Outlet_Type: Type of outlet - Grocery store or supermarket\n",
    "* Item_Outlet_Sales: Sale price of product - The dependant variable to be predicted"
   ]
  },
  {
   "cell_type": "markdown",
   "metadata": {
    "papermill": {
     "duration": 0.072894,
     "end_time": "2021-08-17T05:58:20.731237",
     "exception": false,
     "start_time": "2021-08-17T05:58:20.658343",
     "status": "completed"
    },
    "tags": []
   },
   "source": [
    "# The Hypothesis"
   ]
  },
  {
   "cell_type": "markdown",
   "metadata": {
    "papermill": {
     "duration": 0.073953,
     "end_time": "2021-08-17T05:58:20.877941",
     "exception": false,
     "start_time": "2021-08-17T05:58:20.803988",
     "status": "completed"
    },
    "tags": []
   },
   "source": [
    "1. Locality: Outlet in populated locality should generate more revenue\n",
    "\n",
    "2. Spending Capacity: Tier 1 should have more spending capacity than tier 2 and tier 3\n",
    "\n",
    "3. Product Selection: Tier 1 should prefer low fat content food as they tend to be more aware of their health\n",
    "\n",
    "4. Item Visiblity: More visible Item should have more revenue generating power\n",
    "\n",
    "5. Area: Stores which have early establishment could have higher outlet size\n",
    "\n",
    "6. MRP: Consumers prefer reasonable product or Branded products"
   ]
  },
  {
   "cell_type": "markdown",
   "metadata": {
    "papermill": {
     "duration": 0.073164,
     "end_time": "2021-08-17T05:58:21.023881",
     "exception": false,
     "start_time": "2021-08-17T05:58:20.950717",
     "status": "completed"
    },
    "tags": []
   },
   "source": [
    "# Problem Statment"
   ]
  },
  {
   "cell_type": "markdown",
   "metadata": {
    "papermill": {
     "duration": 0.072168,
     "end_time": "2021-08-17T05:58:21.170046",
     "exception": false,
     "start_time": "2021-08-17T05:58:21.097878",
     "status": "completed"
    },
    "tags": []
   },
   "source": [
    "We need to analyse the dataset and come up with more insights and our main objective is to predict the Sales figure for the test dataset"
   ]
  },
  {
   "cell_type": "markdown",
   "metadata": {
    "papermill": {
     "duration": 0.072377,
     "end_time": "2021-08-17T05:58:21.314978",
     "exception": false,
     "start_time": "2021-08-17T05:58:21.242601",
     "status": "completed"
    },
    "tags": []
   },
   "source": [
    "# Approach"
   ]
  },
  {
   "cell_type": "markdown",
   "metadata": {
    "papermill": {
     "duration": 0.072002,
     "end_time": "2021-08-17T05:58:21.459316",
     "exception": false,
     "start_time": "2021-08-17T05:58:21.387314",
     "status": "completed"
    },
    "tags": []
   },
   "source": [
    "1. By applying Exploratory Data Analysis we will identify the relation between different attributes and evaluate meaningful information\n",
    "\n",
    "2. By applying different supervised machine learning algorithms we will predict the sales for test dataset"
   ]
  },
  {
   "cell_type": "markdown",
   "metadata": {
    "papermill": {
     "duration": 0.072061,
     "end_time": "2021-08-17T05:58:21.603501",
     "exception": false,
     "start_time": "2021-08-17T05:58:21.531440",
     "status": "completed"
    },
    "tags": []
   },
   "source": [
    "# Aim of the Project"
   ]
  },
  {
   "cell_type": "markdown",
   "metadata": {
    "papermill": {
     "duration": 0.077886,
     "end_time": "2021-08-17T05:58:21.755580",
     "exception": false,
     "start_time": "2021-08-17T05:58:21.677694",
     "status": "completed"
    },
    "tags": []
   },
   "source": [
    "The main objective is to find the sales per product for each store and evaluate meaningful insights. Using this model, BigMart will try to understand different attributes of the product and apply them to increase their overall sales"
   ]
  },
  {
   "cell_type": "markdown",
   "metadata": {
    "papermill": {
     "duration": 0.075752,
     "end_time": "2021-08-17T05:58:21.914491",
     "exception": false,
     "start_time": "2021-08-17T05:58:21.838739",
     "status": "completed"
    },
    "tags": []
   },
   "source": [
    "# Part 1: Data Preprocessing"
   ]
  },
  {
   "cell_type": "markdown",
   "metadata": {
    "papermill": {
     "duration": 0.073858,
     "end_time": "2021-08-17T05:58:22.062753",
     "exception": false,
     "start_time": "2021-08-17T05:58:21.988895",
     "status": "completed"
    },
    "tags": []
   },
   "source": [
    "## Importing the Librabies and Dataset"
   ]
  },
  {
   "cell_type": "code",
   "execution_count": 1,
   "metadata": {
    "_cell_guid": "b1076dfc-b9ad-4769-8c92-a6c4dae69d19",
    "_uuid": "8f2839f25d086af736a60e9eeb907d3b93b6e0e5",
    "execution": {
     "iopub.execute_input": "2021-08-17T05:58:22.236269Z",
     "iopub.status.busy": "2021-08-17T05:58:22.235615Z",
     "iopub.status.idle": "2021-08-17T05:58:23.457716Z",
     "shell.execute_reply": "2021-08-17T05:58:23.458244Z",
     "shell.execute_reply.started": "2021-08-07T07:31:51.68971Z"
    },
    "papermill": {
     "duration": 1.32139,
     "end_time": "2021-08-17T05:58:23.458526",
     "exception": false,
     "start_time": "2021-08-17T05:58:22.137136",
     "status": "completed"
    },
    "tags": []
   },
   "outputs": [],
   "source": [
    "# This Python 3 environment comes with many helpful analytics libraries installed\n",
    "# It is defined by the kaggle/python Docker image: https://github.com/kaggle/docker-python\n",
    "# For example, here's several helpful packages to load\n",
    "\n",
    "import os #paths to file\n",
    "import numpy as np # linear algebra\n",
    "import pandas as pd # data processing, CSV file I/O (e.g. pd.read_csv)\n",
    "import warnings# warning filter\n",
    "\n",
    "#ploting libraries\n",
    "import matplotlib.pyplot as plt\n",
    "%matplotlib inline\n",
    "import seaborn as sns\n",
    "sns.set_palette('husl')\n",
    "\n",
    "#feature engineering\n",
    "from sklearn.preprocessing import OneHotEncoder\n",
    "from sklearn.preprocessing import LabelEncoder\n",
    "\n",
    "#train test split\n",
    "from sklearn.model_selection import train_test_split\n",
    "\n",
    "\n",
    "#metrics\n",
    "from sklearn.metrics import mean_absolute_error as MAE\n",
    "from sklearn.metrics import mean_squared_error as MSE\n",
    "from sklearn.metrics import r2_score as R2\n",
    "from sklearn.model_selection  import cross_val_score as CVS\n",
    "\n",
    "\n",
    "#ML models\n",
    "from sklearn.linear_model import LinearRegression\n",
    "from sklearn.ensemble import RandomForestRegressor\n",
    "from sklearn.linear_model import Lasso\n",
    "\n",
    "\n",
    "#default theme and settings\n",
    "sns.set(context='notebook', style='darkgrid', palette='deep', font='sans-serif', font_scale=1, color_codes=False, rc=None)\n",
    "pd.options.display.max_columns\n",
    "\n",
    "#warning hadle\n",
    "warnings.filterwarnings(\"always\")\n",
    "warnings.filterwarnings(\"ignore\")\n",
    "\n",
    "## Display all the columns of the dataframe\n",
    "pd.pandas.set_option('display.max_columns',None)\n",
    "\n",
    "## Display all the rows of the dataframe\n",
    "#pd.pandas.set_option('display.max_rows',None)\n",
    "\n",
    "\n",
    "# Input data files are available in the read-only \"../input/\" directory\n",
    "# For example, running this (by clicking run or pressing Shift+Enter) will list all files under the input directory\n",
    "\n",
    "import os\n",
    "for dirname, _, filenames in os.walk('/kaggle/input'):\n",
    "    for filename in filenames:\n",
    "        print(os.path.join(dirname, filename))\n",
    "\n",
    "# You can write up to 20GB to the current directory (/kaggle/working/) that gets preserved as output when you create a version using \"Save & Run All\" \n",
    "# You can also write temporary files to /kaggle/temp/, but they won't be saved outside of the current session"
   ]
  },
  {
   "cell_type": "code",
   "execution_count": 2,
   "metadata": {
    "execution": {
     "iopub.execute_input": "2021-08-17T05:58:23.618906Z",
     "iopub.status.busy": "2021-08-17T05:58:23.618015Z",
     "iopub.status.idle": "2021-08-17T05:58:23.668145Z",
     "shell.execute_reply": "2021-08-17T05:58:23.667585Z",
     "shell.execute_reply.started": "2021-08-07T07:31:52.986732Z"
    },
    "papermill": {
     "duration": 0.126403,
     "end_time": "2021-08-17T05:58:23.668288",
     "exception": false,
     "start_time": "2021-08-17T05:58:23.541885",
     "status": "completed"
    },
    "tags": []
   },
   "outputs": [
    {
     "name": "stdout",
     "output_type": "stream",
     "text": [
      "(8523, 12)\n"
     ]
    }
   ],
   "source": [
    "## loading the train dataset\n",
    "dataset = pd.read_csv('Train.csv')\n",
    "\n",
    "\n",
    "## print shape of dataset with rows and columns\n",
    "print(dataset.shape)"
   ]
  },
  {
   "cell_type": "markdown",
   "metadata": {
    "papermill": {
     "duration": 0.087844,
     "end_time": "2021-08-17T05:58:23.831575",
     "exception": false,
     "start_time": "2021-08-17T05:58:23.743731",
     "status": "completed"
    },
    "tags": []
   },
   "source": [
    "## Data Exploration"
   ]
  },
  {
   "cell_type": "code",
   "execution_count": 3,
   "metadata": {
    "execution": {
     "iopub.execute_input": "2021-08-17T05:58:23.991026Z",
     "iopub.status.busy": "2021-08-17T05:58:23.990091Z",
     "iopub.status.idle": "2021-08-17T05:58:24.021942Z",
     "shell.execute_reply": "2021-08-17T05:58:24.022347Z",
     "shell.execute_reply.started": "2021-08-07T07:31:53.044333Z"
    },
    "papermill": {
     "duration": 0.11018,
     "end_time": "2021-08-17T05:58:24.022513",
     "exception": false,
     "start_time": "2021-08-17T05:58:23.912333",
     "status": "completed"
    },
    "tags": []
   },
   "outputs": [
    {
     "data": {
      "text/html": [
       "<div>\n",
       "<style scoped>\n",
       "    .dataframe tbody tr th:only-of-type {\n",
       "        vertical-align: middle;\n",
       "    }\n",
       "\n",
       "    .dataframe tbody tr th {\n",
       "        vertical-align: top;\n",
       "    }\n",
       "\n",
       "    .dataframe thead th {\n",
       "        text-align: right;\n",
       "    }\n",
       "</style>\n",
       "<table border=\"1\" class=\"dataframe\">\n",
       "  <thead>\n",
       "    <tr style=\"text-align: right;\">\n",
       "      <th></th>\n",
       "      <th>Item_Identifier</th>\n",
       "      <th>Item_Weight</th>\n",
       "      <th>Item_Fat_Content</th>\n",
       "      <th>Item_Visibility</th>\n",
       "      <th>Item_Type</th>\n",
       "      <th>Item_MRP</th>\n",
       "      <th>Outlet_Identifier</th>\n",
       "      <th>Outlet_Establishment_Year</th>\n",
       "      <th>Outlet_Size</th>\n",
       "      <th>Outlet_Location_Type</th>\n",
       "      <th>Outlet_Type</th>\n",
       "      <th>Item_Outlet_Sales</th>\n",
       "    </tr>\n",
       "  </thead>\n",
       "  <tbody>\n",
       "    <tr>\n",
       "      <th>0</th>\n",
       "      <td>FDA15</td>\n",
       "      <td>9.30</td>\n",
       "      <td>Low Fat</td>\n",
       "      <td>0.016047</td>\n",
       "      <td>Dairy</td>\n",
       "      <td>249.8092</td>\n",
       "      <td>OUT049</td>\n",
       "      <td>1999</td>\n",
       "      <td>Medium</td>\n",
       "      <td>Tier 1</td>\n",
       "      <td>Supermarket Type1</td>\n",
       "      <td>3735.1380</td>\n",
       "    </tr>\n",
       "    <tr>\n",
       "      <th>1</th>\n",
       "      <td>DRC01</td>\n",
       "      <td>5.92</td>\n",
       "      <td>Regular</td>\n",
       "      <td>0.019278</td>\n",
       "      <td>Soft Drinks</td>\n",
       "      <td>48.2692</td>\n",
       "      <td>OUT018</td>\n",
       "      <td>2009</td>\n",
       "      <td>Medium</td>\n",
       "      <td>Tier 3</td>\n",
       "      <td>Supermarket Type2</td>\n",
       "      <td>443.4228</td>\n",
       "    </tr>\n",
       "    <tr>\n",
       "      <th>2</th>\n",
       "      <td>FDN15</td>\n",
       "      <td>17.50</td>\n",
       "      <td>Low Fat</td>\n",
       "      <td>0.016760</td>\n",
       "      <td>Meat</td>\n",
       "      <td>141.6180</td>\n",
       "      <td>OUT049</td>\n",
       "      <td>1999</td>\n",
       "      <td>Medium</td>\n",
       "      <td>Tier 1</td>\n",
       "      <td>Supermarket Type1</td>\n",
       "      <td>2097.2700</td>\n",
       "    </tr>\n",
       "    <tr>\n",
       "      <th>3</th>\n",
       "      <td>FDX07</td>\n",
       "      <td>19.20</td>\n",
       "      <td>Regular</td>\n",
       "      <td>0.000000</td>\n",
       "      <td>Fruits and Vegetables</td>\n",
       "      <td>182.0950</td>\n",
       "      <td>OUT010</td>\n",
       "      <td>1998</td>\n",
       "      <td>NaN</td>\n",
       "      <td>Tier 3</td>\n",
       "      <td>Grocery Store</td>\n",
       "      <td>732.3800</td>\n",
       "    </tr>\n",
       "    <tr>\n",
       "      <th>4</th>\n",
       "      <td>NCD19</td>\n",
       "      <td>8.93</td>\n",
       "      <td>Low Fat</td>\n",
       "      <td>0.000000</td>\n",
       "      <td>Household</td>\n",
       "      <td>53.8614</td>\n",
       "      <td>OUT013</td>\n",
       "      <td>1987</td>\n",
       "      <td>High</td>\n",
       "      <td>Tier 3</td>\n",
       "      <td>Supermarket Type1</td>\n",
       "      <td>994.7052</td>\n",
       "    </tr>\n",
       "  </tbody>\n",
       "</table>\n",
       "</div>"
      ],
      "text/plain": [
       "  Item_Identifier  Item_Weight Item_Fat_Content  Item_Visibility  \\\n",
       "0           FDA15         9.30          Low Fat         0.016047   \n",
       "1           DRC01         5.92          Regular         0.019278   \n",
       "2           FDN15        17.50          Low Fat         0.016760   \n",
       "3           FDX07        19.20          Regular         0.000000   \n",
       "4           NCD19         8.93          Low Fat         0.000000   \n",
       "\n",
       "               Item_Type  Item_MRP Outlet_Identifier  \\\n",
       "0                  Dairy  249.8092            OUT049   \n",
       "1            Soft Drinks   48.2692            OUT018   \n",
       "2                   Meat  141.6180            OUT049   \n",
       "3  Fruits and Vegetables  182.0950            OUT010   \n",
       "4              Household   53.8614            OUT013   \n",
       "\n",
       "   Outlet_Establishment_Year Outlet_Size Outlet_Location_Type  \\\n",
       "0                       1999      Medium               Tier 1   \n",
       "1                       2009      Medium               Tier 3   \n",
       "2                       1999      Medium               Tier 1   \n",
       "3                       1998         NaN               Tier 3   \n",
       "4                       1987        High               Tier 3   \n",
       "\n",
       "         Outlet_Type  Item_Outlet_Sales  \n",
       "0  Supermarket Type1          3735.1380  \n",
       "1  Supermarket Type2           443.4228  \n",
       "2  Supermarket Type1          2097.2700  \n",
       "3      Grocery Store           732.3800  \n",
       "4  Supermarket Type1           994.7052  "
      ]
     },
     "execution_count": 3,
     "metadata": {},
     "output_type": "execute_result"
    }
   ],
   "source": [
    "dataset.head()"
   ]
  },
  {
   "cell_type": "code",
   "execution_count": 4,
   "metadata": {
    "execution": {
     "iopub.execute_input": "2021-08-17T05:58:24.224436Z",
     "iopub.status.busy": "2021-08-17T05:58:24.223539Z",
     "iopub.status.idle": "2021-08-17T05:58:24.228624Z",
     "shell.execute_reply": "2021-08-17T05:58:24.229109Z",
     "shell.execute_reply.started": "2021-08-07T07:31:53.0795Z"
    },
    "papermill": {
     "duration": 0.133176,
     "end_time": "2021-08-17T05:58:24.229266",
     "exception": false,
     "start_time": "2021-08-17T05:58:24.096090",
     "status": "completed"
    },
    "tags": []
   },
   "outputs": [
    {
     "data": {
      "text/plain": [
       "Index(['Item_Identifier', 'Item_Weight', 'Item_Fat_Content', 'Item_Visibility',\n",
       "       'Item_Type', 'Item_MRP', 'Outlet_Identifier',\n",
       "       'Outlet_Establishment_Year', 'Outlet_Size', 'Outlet_Location_Type',\n",
       "       'Outlet_Type', 'Item_Outlet_Sales'],\n",
       "      dtype='object')"
      ]
     },
     "execution_count": 4,
     "metadata": {},
     "output_type": "execute_result"
    }
   ],
   "source": [
    "# check the columns\n",
    "dataset.columns"
   ]
  },
  {
   "cell_type": "code",
   "execution_count": 5,
   "metadata": {
    "execution": {
     "iopub.execute_input": "2021-08-17T05:58:24.381117Z",
     "iopub.status.busy": "2021-08-17T05:58:24.380231Z",
     "iopub.status.idle": "2021-08-17T05:58:24.402440Z",
     "shell.execute_reply": "2021-08-17T05:58:24.401607Z",
     "shell.execute_reply.started": "2021-08-07T07:31:53.086867Z"
    },
    "papermill": {
     "duration": 0.099154,
     "end_time": "2021-08-17T05:58:24.402616",
     "exception": false,
     "start_time": "2021-08-17T05:58:24.303462",
     "status": "completed"
    },
    "tags": []
   },
   "outputs": [
    {
     "name": "stdout",
     "output_type": "stream",
     "text": [
      "<class 'pandas.core.frame.DataFrame'>\n",
      "RangeIndex: 8523 entries, 0 to 8522\n",
      "Data columns (total 12 columns):\n",
      " #   Column                     Non-Null Count  Dtype  \n",
      "---  ------                     --------------  -----  \n",
      " 0   Item_Identifier            8523 non-null   object \n",
      " 1   Item_Weight                7060 non-null   float64\n",
      " 2   Item_Fat_Content           8523 non-null   object \n",
      " 3   Item_Visibility            8523 non-null   float64\n",
      " 4   Item_Type                  8523 non-null   object \n",
      " 5   Item_MRP                   8523 non-null   float64\n",
      " 6   Outlet_Identifier          8523 non-null   object \n",
      " 7   Outlet_Establishment_Year  8523 non-null   int64  \n",
      " 8   Outlet_Size                6113 non-null   object \n",
      " 9   Outlet_Location_Type       8523 non-null   object \n",
      " 10  Outlet_Type                8523 non-null   object \n",
      " 11  Item_Outlet_Sales          8523 non-null   float64\n",
      "dtypes: float64(4), int64(1), object(7)\n",
      "memory usage: 799.2+ KB\n"
     ]
    }
   ],
   "source": [
    "# check the information about the dataset\n",
    "dataset.info()"
   ]
  },
  {
   "cell_type": "code",
   "execution_count": 6,
   "metadata": {
    "execution": {
     "iopub.execute_input": "2021-08-17T05:58:24.561439Z",
     "iopub.status.busy": "2021-08-17T05:58:24.560653Z",
     "iopub.status.idle": "2021-08-17T05:58:24.563911Z",
     "shell.execute_reply": "2021-08-17T05:58:24.564319Z",
     "shell.execute_reply.started": "2021-08-07T07:31:53.113692Z"
    },
    "papermill": {
     "duration": 0.08569,
     "end_time": "2021-08-17T05:58:24.564479",
     "exception": false,
     "start_time": "2021-08-17T05:58:24.478789",
     "status": "completed"
    },
    "tags": []
   },
   "outputs": [
    {
     "data": {
      "text/plain": [
       "Index(['Item_Identifier', 'Item_Fat_Content', 'Item_Type', 'Outlet_Identifier',\n",
       "       'Outlet_Size', 'Outlet_Location_Type', 'Outlet_Type'],\n",
       "      dtype='object')"
      ]
     },
     "execution_count": 6,
     "metadata": {},
     "output_type": "execute_result"
    }
   ],
   "source": [
    "# Check the name of coloumns which contain string\n",
    "dataset.select_dtypes(include='object').columns"
   ]
  },
  {
   "cell_type": "code",
   "execution_count": 7,
   "metadata": {
    "execution": {
     "iopub.execute_input": "2021-08-17T05:58:24.722579Z",
     "iopub.status.busy": "2021-08-17T05:58:24.721794Z",
     "iopub.status.idle": "2021-08-17T05:58:24.725024Z",
     "shell.execute_reply": "2021-08-17T05:58:24.725534Z",
     "shell.execute_reply.started": "2021-08-07T07:31:53.122666Z"
    },
    "papermill": {
     "duration": 0.085844,
     "end_time": "2021-08-17T05:58:24.725704",
     "exception": false,
     "start_time": "2021-08-17T05:58:24.639860",
     "status": "completed"
    },
    "tags": []
   },
   "outputs": [
    {
     "data": {
      "text/plain": [
       "7"
      ]
     },
     "execution_count": 7,
     "metadata": {},
     "output_type": "execute_result"
    }
   ],
   "source": [
    "# Check the no. of coloumns which contain string\n",
    "len(dataset.select_dtypes(include='object').columns)"
   ]
  },
  {
   "cell_type": "code",
   "execution_count": 8,
   "metadata": {
    "execution": {
     "iopub.execute_input": "2021-08-17T05:58:24.880433Z",
     "iopub.status.busy": "2021-08-17T05:58:24.879484Z",
     "iopub.status.idle": "2021-08-17T05:58:24.888157Z",
     "shell.execute_reply": "2021-08-17T05:58:24.888612Z",
     "shell.execute_reply.started": "2021-08-07T07:31:53.136877Z"
    },
    "papermill": {
     "duration": 0.088131,
     "end_time": "2021-08-17T05:58:24.888790",
     "exception": false,
     "start_time": "2021-08-17T05:58:24.800659",
     "status": "completed"
    },
    "tags": []
   },
   "outputs": [
    {
     "data": {
      "text/plain": [
       "Index(['Item_Weight', 'Item_Visibility', 'Item_MRP',\n",
       "       'Outlet_Establishment_Year', 'Item_Outlet_Sales'],\n",
       "      dtype='object')"
      ]
     },
     "execution_count": 8,
     "metadata": {},
     "output_type": "execute_result"
    }
   ],
   "source": [
    "# Check the name of coloumns which contain numerical value\n",
    "dataset.select_dtypes(include=['int64', 'float64']).columns\n"
   ]
  },
  {
   "cell_type": "code",
   "execution_count": 9,
   "metadata": {
    "execution": {
     "iopub.execute_input": "2021-08-17T05:58:25.047221Z",
     "iopub.status.busy": "2021-08-17T05:58:25.046394Z",
     "iopub.status.idle": "2021-08-17T05:58:25.049880Z",
     "shell.execute_reply": "2021-08-17T05:58:25.050341Z",
     "shell.execute_reply.started": "2021-08-07T07:31:53.150772Z"
    },
    "papermill": {
     "duration": 0.086386,
     "end_time": "2021-08-17T05:58:25.050500",
     "exception": false,
     "start_time": "2021-08-17T05:58:24.964114",
     "status": "completed"
    },
    "tags": []
   },
   "outputs": [
    {
     "data": {
      "text/plain": [
       "5"
      ]
     },
     "execution_count": 9,
     "metadata": {},
     "output_type": "execute_result"
    }
   ],
   "source": [
    "# Check the no. of coloumns which contain numerical value\n",
    "len(dataset.select_dtypes(include=['int64', 'float64']).columns)"
   ]
  },
  {
   "cell_type": "code",
   "execution_count": 10,
   "metadata": {
    "execution": {
     "iopub.execute_input": "2021-08-17T05:58:25.206258Z",
     "iopub.status.busy": "2021-08-17T05:58:25.205368Z",
     "iopub.status.idle": "2021-08-17T05:58:25.231007Z",
     "shell.execute_reply": "2021-08-17T05:58:25.231441Z",
     "shell.execute_reply.started": "2021-08-07T07:31:53.162902Z"
    },
    "papermill": {
     "duration": 0.104413,
     "end_time": "2021-08-17T05:58:25.231599",
     "exception": false,
     "start_time": "2021-08-17T05:58:25.127186",
     "status": "completed"
    },
    "tags": []
   },
   "outputs": [
    {
     "data": {
      "text/html": [
       "<div>\n",
       "<style scoped>\n",
       "    .dataframe tbody tr th:only-of-type {\n",
       "        vertical-align: middle;\n",
       "    }\n",
       "\n",
       "    .dataframe tbody tr th {\n",
       "        vertical-align: top;\n",
       "    }\n",
       "\n",
       "    .dataframe thead th {\n",
       "        text-align: right;\n",
       "    }\n",
       "</style>\n",
       "<table border=\"1\" class=\"dataframe\">\n",
       "  <thead>\n",
       "    <tr style=\"text-align: right;\">\n",
       "      <th></th>\n",
       "      <th>Item_Weight</th>\n",
       "      <th>Item_Visibility</th>\n",
       "      <th>Item_MRP</th>\n",
       "      <th>Outlet_Establishment_Year</th>\n",
       "      <th>Item_Outlet_Sales</th>\n",
       "    </tr>\n",
       "  </thead>\n",
       "  <tbody>\n",
       "    <tr>\n",
       "      <th>count</th>\n",
       "      <td>7060.000000</td>\n",
       "      <td>8523.000000</td>\n",
       "      <td>8523.000000</td>\n",
       "      <td>8523.000000</td>\n",
       "      <td>8523.000000</td>\n",
       "    </tr>\n",
       "    <tr>\n",
       "      <th>mean</th>\n",
       "      <td>12.857645</td>\n",
       "      <td>0.066132</td>\n",
       "      <td>140.992782</td>\n",
       "      <td>1997.831867</td>\n",
       "      <td>2181.288914</td>\n",
       "    </tr>\n",
       "    <tr>\n",
       "      <th>std</th>\n",
       "      <td>4.643456</td>\n",
       "      <td>0.051598</td>\n",
       "      <td>62.275067</td>\n",
       "      <td>8.371760</td>\n",
       "      <td>1706.499616</td>\n",
       "    </tr>\n",
       "    <tr>\n",
       "      <th>min</th>\n",
       "      <td>4.555000</td>\n",
       "      <td>0.000000</td>\n",
       "      <td>31.290000</td>\n",
       "      <td>1985.000000</td>\n",
       "      <td>33.290000</td>\n",
       "    </tr>\n",
       "    <tr>\n",
       "      <th>25%</th>\n",
       "      <td>8.773750</td>\n",
       "      <td>0.026989</td>\n",
       "      <td>93.826500</td>\n",
       "      <td>1987.000000</td>\n",
       "      <td>834.247400</td>\n",
       "    </tr>\n",
       "    <tr>\n",
       "      <th>50%</th>\n",
       "      <td>12.600000</td>\n",
       "      <td>0.053931</td>\n",
       "      <td>143.012800</td>\n",
       "      <td>1999.000000</td>\n",
       "      <td>1794.331000</td>\n",
       "    </tr>\n",
       "    <tr>\n",
       "      <th>75%</th>\n",
       "      <td>16.850000</td>\n",
       "      <td>0.094585</td>\n",
       "      <td>185.643700</td>\n",
       "      <td>2004.000000</td>\n",
       "      <td>3101.296400</td>\n",
       "    </tr>\n",
       "    <tr>\n",
       "      <th>max</th>\n",
       "      <td>21.350000</td>\n",
       "      <td>0.328391</td>\n",
       "      <td>266.888400</td>\n",
       "      <td>2009.000000</td>\n",
       "      <td>13086.964800</td>\n",
       "    </tr>\n",
       "  </tbody>\n",
       "</table>\n",
       "</div>"
      ],
      "text/plain": [
       "       Item_Weight  Item_Visibility     Item_MRP  Outlet_Establishment_Year  \\\n",
       "count  7060.000000      8523.000000  8523.000000                8523.000000   \n",
       "mean     12.857645         0.066132   140.992782                1997.831867   \n",
       "std       4.643456         0.051598    62.275067                   8.371760   \n",
       "min       4.555000         0.000000    31.290000                1985.000000   \n",
       "25%       8.773750         0.026989    93.826500                1987.000000   \n",
       "50%      12.600000         0.053931   143.012800                1999.000000   \n",
       "75%      16.850000         0.094585   185.643700                2004.000000   \n",
       "max      21.350000         0.328391   266.888400                2009.000000   \n",
       "\n",
       "       Item_Outlet_Sales  \n",
       "count        8523.000000  \n",
       "mean         2181.288914  \n",
       "std          1706.499616  \n",
       "min            33.290000  \n",
       "25%           834.247400  \n",
       "50%          1794.331000  \n",
       "75%          3101.296400  \n",
       "max         13086.964800  "
      ]
     },
     "execution_count": 10,
     "metadata": {},
     "output_type": "execute_result"
    }
   ],
   "source": [
    "# statistical summary\n",
    "dataset.describe()"
   ]
  },
  {
   "cell_type": "markdown",
   "metadata": {
    "papermill": {
     "duration": 0.075343,
     "end_time": "2021-08-17T05:58:25.382558",
     "exception": false,
     "start_time": "2021-08-17T05:58:25.307215",
     "status": "completed"
    },
    "tags": []
   },
   "source": [
    "## Dealing with missing data"
   ]
  },
  {
   "cell_type": "code",
   "execution_count": 11,
   "metadata": {
    "execution": {
     "iopub.execute_input": "2021-08-17T05:58:25.537017Z",
     "iopub.status.busy": "2021-08-17T05:58:25.536131Z",
     "iopub.status.idle": "2021-08-17T05:58:25.544269Z",
     "shell.execute_reply": "2021-08-17T05:58:25.544706Z",
     "shell.execute_reply.started": "2021-08-07T07:31:53.199636Z"
    },
    "papermill": {
     "duration": 0.08693,
     "end_time": "2021-08-17T05:58:25.544865",
     "exception": false,
     "start_time": "2021-08-17T05:58:25.457935",
     "status": "completed"
    },
    "tags": []
   },
   "outputs": [
    {
     "data": {
      "text/plain": [
       "True"
      ]
     },
     "execution_count": 11,
     "metadata": {},
     "output_type": "execute_result"
    }
   ],
   "source": [
    "dataset.isnull().values.any()"
   ]
  },
  {
   "cell_type": "code",
   "execution_count": 12,
   "metadata": {
    "execution": {
     "iopub.execute_input": "2021-08-17T05:58:25.699350Z",
     "iopub.status.busy": "2021-08-17T05:58:25.698442Z",
     "iopub.status.idle": "2021-08-17T05:58:25.706743Z",
     "shell.execute_reply": "2021-08-17T05:58:25.707180Z",
     "shell.execute_reply.started": "2021-08-07T07:31:53.209464Z"
    },
    "papermill": {
     "duration": 0.087161,
     "end_time": "2021-08-17T05:58:25.707339",
     "exception": false,
     "start_time": "2021-08-17T05:58:25.620178",
     "status": "completed"
    },
    "tags": []
   },
   "outputs": [
    {
     "data": {
      "text/plain": [
       "3873"
      ]
     },
     "execution_count": 12,
     "metadata": {},
     "output_type": "execute_result"
    }
   ],
   "source": [
    "dataset.isnull().values.sum()"
   ]
  },
  {
   "cell_type": "code",
   "execution_count": 13,
   "metadata": {
    "execution": {
     "iopub.execute_input": "2021-08-17T05:58:25.863077Z",
     "iopub.status.busy": "2021-08-17T05:58:25.862199Z",
     "iopub.status.idle": "2021-08-17T05:58:25.872237Z",
     "shell.execute_reply": "2021-08-17T05:58:25.872703Z",
     "shell.execute_reply.started": "2021-08-07T07:31:53.22569Z"
    },
    "papermill": {
     "duration": 0.089552,
     "end_time": "2021-08-17T05:58:25.872879",
     "exception": false,
     "start_time": "2021-08-17T05:58:25.783327",
     "status": "completed"
    },
    "tags": []
   },
   "outputs": [
    {
     "data": {
      "text/plain": [
       "Item_Identifier                 0\n",
       "Item_Weight                  1463\n",
       "Item_Fat_Content                0\n",
       "Item_Visibility                 0\n",
       "Item_Type                       0\n",
       "Item_MRP                        0\n",
       "Outlet_Identifier               0\n",
       "Outlet_Establishment_Year       0\n",
       "Outlet_Size                  2410\n",
       "Outlet_Location_Type            0\n",
       "Outlet_Type                     0\n",
       "Item_Outlet_Sales               0\n",
       "dtype: int64"
      ]
     },
     "execution_count": 13,
     "metadata": {},
     "output_type": "execute_result"
    }
   ],
   "source": [
    "dataset.isnull().sum()"
   ]
  },
  {
   "cell_type": "code",
   "execution_count": 14,
   "metadata": {
    "execution": {
     "iopub.execute_input": "2021-08-17T05:58:26.029905Z",
     "iopub.status.busy": "2021-08-17T05:58:26.028999Z",
     "iopub.status.idle": "2021-08-17T05:58:26.038347Z",
     "shell.execute_reply": "2021-08-17T05:58:26.038758Z",
     "shell.execute_reply.started": "2021-08-07T07:31:53.239476Z"
    },
    "papermill": {
     "duration": 0.088725,
     "end_time": "2021-08-17T05:58:26.038932",
     "exception": false,
     "start_time": "2021-08-17T05:58:25.950207",
     "status": "completed"
    },
    "tags": []
   },
   "outputs": [
    {
     "data": {
      "text/plain": [
       "Index(['Item_Weight', 'Outlet_Size'], dtype='object')"
      ]
     },
     "execution_count": 14,
     "metadata": {},
     "output_type": "execute_result"
    }
   ],
   "source": [
    "# columns with null values\n",
    "dataset.columns[dataset.isnull().any()]"
   ]
  },
  {
   "cell_type": "code",
   "execution_count": 15,
   "metadata": {
    "execution": {
     "iopub.execute_input": "2021-08-17T05:58:26.196231Z",
     "iopub.status.busy": "2021-08-17T05:58:26.195317Z",
     "iopub.status.idle": "2021-08-17T05:58:26.204419Z",
     "shell.execute_reply": "2021-08-17T05:58:26.204838Z",
     "shell.execute_reply.started": "2021-08-07T07:31:53.252326Z"
    },
    "papermill": {
     "duration": 0.088972,
     "end_time": "2021-08-17T05:58:26.205007",
     "exception": false,
     "start_time": "2021-08-17T05:58:26.116035",
     "status": "completed"
    },
    "tags": []
   },
   "outputs": [
    {
     "data": {
      "text/plain": [
       "2"
      ]
     },
     "execution_count": 15,
     "metadata": {},
     "output_type": "execute_result"
    }
   ],
   "source": [
    "len(dataset.columns[dataset.isnull().any()])"
   ]
  },
  {
   "cell_type": "code",
   "execution_count": 16,
   "metadata": {
    "execution": {
     "iopub.execute_input": "2021-08-17T05:58:26.361715Z",
     "iopub.status.busy": "2021-08-17T05:58:26.360838Z",
     "iopub.status.idle": "2021-08-17T05:58:27.131005Z",
     "shell.execute_reply": "2021-08-17T05:58:27.131446Z",
     "shell.execute_reply.started": "2021-08-07T07:31:53.270097Z"
    },
    "papermill": {
     "duration": 0.849868,
     "end_time": "2021-08-17T05:58:27.131628",
     "exception": false,
     "start_time": "2021-08-17T05:58:26.281760",
     "status": "completed"
    },
    "tags": []
   },
   "outputs": [
    {
     "data": {
      "image/png": "[encoded data removed]",
      "text/plain": [
       "<Figure size 1152x648 with 2 Axes>"
      ]
     },
     "metadata": {},
     "output_type": "display_data"
    }
   ],
   "source": [
    "# null values with heatmap\n",
    "plt.figure(figsize=(16,9))\n",
    "sns.heatmap(dataset.isnull())\n",
    "plt.show()"
   ]
  },
  {
   "cell_type": "code",
   "execution_count": 17,
   "metadata": {
    "execution": {
     "iopub.execute_input": "2021-08-17T05:58:27.293507Z",
     "iopub.status.busy": "2021-08-17T05:58:27.292604Z",
     "iopub.status.idle": "2021-08-17T05:58:27.316071Z",
     "shell.execute_reply": "2021-08-17T05:58:27.316470Z",
     "shell.execute_reply.started": "2021-08-07T07:31:54.083605Z"
    },
    "papermill": {
     "duration": 0.105718,
     "end_time": "2021-08-17T05:58:27.316640",
     "exception": false,
     "start_time": "2021-08-17T05:58:27.210922",
     "status": "completed"
    },
    "tags": []
   },
   "outputs": [
    {
     "data": {
      "text/plain": [
       "Item_Identifier               0.000000\n",
       "Item_Weight                  17.165317\n",
       "Item_Fat_Content              0.000000\n",
       "Item_Visibility               0.000000\n",
       "Item_Type                     0.000000\n",
       "Item_MRP                      0.000000\n",
       "Outlet_Identifier             0.000000\n",
       "Outlet_Establishment_Year     0.000000\n",
       "Outlet_Size                  28.276428\n",
       "Outlet_Location_Type          0.000000\n",
       "Outlet_Type                   0.000000\n",
       "Item_Outlet_Sales             0.000000\n",
       "dtype: float64"
      ]
     },
     "execution_count": 17,
     "metadata": {},
     "output_type": "execute_result"
    }
   ],
   "source": [
    "null_percent = dataset.isnull().sum() / dataset.shape[0] * 100\n",
    "\n",
    "# (missing values / total values) * 100\n",
    "\n",
    "null_percent"
   ]
  },
  {
   "cell_type": "code",
   "execution_count": 18,
   "metadata": {
    "execution": {
     "iopub.execute_input": "2021-08-17T05:58:27.477711Z",
     "iopub.status.busy": "2021-08-17T05:58:27.476828Z",
     "iopub.status.idle": "2021-08-17T05:58:27.637978Z",
     "shell.execute_reply": "2021-08-17T05:58:27.638387Z",
     "shell.execute_reply.started": "2021-08-07T07:31:54.110611Z"
    },
    "papermill": {
     "duration": 0.242855,
     "end_time": "2021-08-17T05:58:27.638570",
     "exception": false,
     "start_time": "2021-08-17T05:58:27.395715",
     "status": "completed"
    },
    "tags": []
   },
   "outputs": [
    {
     "data": {
      "text/plain": [
       "<AxesSubplot:xlabel='Item_Weight'>"
      ]
     },
     "execution_count": 18,
     "metadata": {},
     "output_type": "execute_result"
    },
    {
     "data": {
      "image/png": "[encoded data removed]",
      "text/plain": [
       "<Figure size 576x360 with 1 Axes>"
      ]
     },
     "metadata": {},
     "output_type": "display_data"
    }
   ],
   "source": [
    "plt.figure(figsize=(8,5))\n",
    "sns.boxplot('Item_Weight',data=dataset)"
   ]
  },
  {
   "cell_type": "markdown",
   "metadata": {
    "papermill": {
     "duration": 0.079652,
     "end_time": "2021-08-17T05:58:27.798018",
     "exception": false,
     "start_time": "2021-08-17T05:58:27.718366",
     "status": "completed"
    },
    "tags": []
   },
   "source": [
    "**Box Plot suggest we dont have any outlier and hence we can change missing values with 'Mean'**"
   ]
  },
  {
   "cell_type": "code",
   "execution_count": 19,
   "metadata": {
    "execution": {
     "iopub.execute_input": "2021-08-17T05:58:27.962772Z",
     "iopub.status.busy": "2021-08-17T05:58:27.961880Z",
     "iopub.status.idle": "2021-08-17T05:58:27.967801Z",
     "shell.execute_reply": "2021-08-17T05:58:27.967321Z",
     "shell.execute_reply.started": "2021-08-07T07:31:54.295848Z"
    },
    "papermill": {
     "duration": 0.08971,
     "end_time": "2021-08-17T05:58:27.967942",
     "exception": false,
     "start_time": "2021-08-17T05:58:27.878232",
     "status": "completed"
    },
    "tags": []
   },
   "outputs": [],
   "source": [
    "dataset['Item_Weight'] = dataset['Item_Weight'].fillna(dataset['Item_Weight'].mean())"
   ]
  },
  {
   "cell_type": "markdown",
   "metadata": {
    "papermill": {
     "duration": 0.079811,
     "end_time": "2021-08-17T05:58:28.127564",
     "exception": false,
     "start_time": "2021-08-17T05:58:28.047753",
     "status": "completed"
    },
    "tags": []
   },
   "source": [
    "Since the Outlet_Size is a categorial variable we can change this missing values to \"Mode\"(Most Repeated Value)"
   ]
  },
  {
   "cell_type": "code",
   "execution_count": 20,
   "metadata": {
    "execution": {
     "iopub.execute_input": "2021-08-17T05:58:28.296478Z",
     "iopub.status.busy": "2021-08-17T05:58:28.295891Z",
     "iopub.status.idle": "2021-08-17T05:58:28.298234Z",
     "shell.execute_reply": "2021-08-17T05:58:28.298611Z",
     "shell.execute_reply.started": "2021-08-07T07:31:54.303272Z"
    },
    "papermill": {
     "duration": 0.089013,
     "end_time": "2021-08-17T05:58:28.298789",
     "exception": false,
     "start_time": "2021-08-17T05:58:28.209776",
     "status": "completed"
    },
    "tags": []
   },
   "outputs": [],
   "source": [
    "dataset['Outlet_Size'] = dataset['Outlet_Size'].fillna(dataset['Outlet_Size'].mode()[0])"
   ]
  },
  {
   "cell_type": "code",
   "execution_count": 21,
   "metadata": {
    "execution": {
     "iopub.execute_input": "2021-08-17T05:58:28.462108Z",
     "iopub.status.busy": "2021-08-17T05:58:28.461484Z",
     "iopub.status.idle": "2021-08-17T05:58:28.468894Z",
     "shell.execute_reply": "2021-08-17T05:58:28.469313Z",
     "shell.execute_reply.started": "2021-08-07T07:31:54.317147Z"
    },
    "papermill": {
     "duration": 0.090341,
     "end_time": "2021-08-17T05:58:28.469473",
     "exception": false,
     "start_time": "2021-08-17T05:58:28.379132",
     "status": "completed"
    },
    "tags": []
   },
   "outputs": [
    {
     "data": {
      "text/plain": [
       "False"
      ]
     },
     "execution_count": 21,
     "metadata": {},
     "output_type": "execute_result"
    }
   ],
   "source": [
    "dataset.isnull().values.any()"
   ]
  },
  {
   "cell_type": "code",
   "execution_count": 22,
   "metadata": {
    "execution": {
     "iopub.execute_input": "2021-08-17T05:58:28.631724Z",
     "iopub.status.busy": "2021-08-17T05:58:28.631175Z",
     "iopub.status.idle": "2021-08-17T05:58:28.640045Z",
     "shell.execute_reply": "2021-08-17T05:58:28.640555Z",
     "shell.execute_reply.started": "2021-08-07T07:31:54.333589Z"
    },
    "papermill": {
     "duration": 0.091558,
     "end_time": "2021-08-17T05:58:28.640723",
     "exception": false,
     "start_time": "2021-08-17T05:58:28.549165",
     "status": "completed"
    },
    "tags": []
   },
   "outputs": [
    {
     "data": {
      "text/plain": [
       "0"
      ]
     },
     "execution_count": 22,
     "metadata": {},
     "output_type": "execute_result"
    }
   ],
   "source": [
    "len(dataset.columns[dataset.isnull().any()])"
   ]
  },
  {
   "cell_type": "markdown",
   "metadata": {
    "papermill": {
     "duration": 0.080477,
     "end_time": "2021-08-17T05:58:28.801426",
     "exception": false,
     "start_time": "2021-08-17T05:58:28.720949",
     "status": "completed"
    },
    "tags": []
   },
   "source": [
    "## Cleaning the Data"
   ]
  },
  {
   "cell_type": "code",
   "execution_count": 23,
   "metadata": {
    "execution": {
     "iopub.execute_input": "2021-08-17T05:58:28.967382Z",
     "iopub.status.busy": "2021-08-17T05:58:28.966843Z",
     "iopub.status.idle": "2021-08-17T05:58:28.975233Z",
     "shell.execute_reply": "2021-08-17T05:58:28.975694Z",
     "shell.execute_reply.started": "2021-08-07T07:31:54.351839Z"
    },
    "papermill": {
     "duration": 0.092977,
     "end_time": "2021-08-17T05:58:28.975874",
     "exception": false,
     "start_time": "2021-08-17T05:58:28.882897",
     "status": "completed"
    },
    "tags": []
   },
   "outputs": [
    {
     "data": {
      "text/plain": [
       "FDW13    10\n",
       "FDG33    10\n",
       "FDG09     9\n",
       "NCJ30     9\n",
       "FDT07     9\n",
       "         ..\n",
       "FDE52     1\n",
       "FDT35     1\n",
       "FDO33     1\n",
       "FDQ60     1\n",
       "FDC23     1\n",
       "Name: Item_Identifier, Length: 1559, dtype: int64"
      ]
     },
     "execution_count": 23,
     "metadata": {},
     "output_type": "execute_result"
    }
   ],
   "source": [
    "dataset['Item_Identifier'].value_counts()"
   ]
  },
  {
   "cell_type": "code",
   "execution_count": 24,
   "metadata": {
    "execution": {
     "iopub.execute_input": "2021-08-17T05:58:29.141790Z",
     "iopub.status.busy": "2021-08-17T05:58:29.141155Z",
     "iopub.status.idle": "2021-08-17T05:58:29.148169Z",
     "shell.execute_reply": "2021-08-17T05:58:29.148616Z",
     "shell.execute_reply.started": "2021-08-07T07:31:54.366326Z"
    },
    "papermill": {
     "duration": 0.091675,
     "end_time": "2021-08-17T05:58:29.148799",
     "exception": false,
     "start_time": "2021-08-17T05:58:29.057124",
     "status": "completed"
    },
    "tags": []
   },
   "outputs": [
    {
     "data": {
      "text/plain": [
       "Low Fat    5089\n",
       "Regular    2889\n",
       "LF          316\n",
       "reg         117\n",
       "low fat     112\n",
       "Name: Item_Fat_Content, dtype: int64"
      ]
     },
     "execution_count": 24,
     "metadata": {},
     "output_type": "execute_result"
    }
   ],
   "source": [
    "dataset['Item_Fat_Content'].value_counts()"
   ]
  },
  {
   "cell_type": "markdown",
   "metadata": {
    "papermill": {
     "duration": 0.081402,
     "end_time": "2021-08-17T05:58:29.311015",
     "exception": false,
     "start_time": "2021-08-17T05:58:29.229613",
     "status": "completed"
    },
    "tags": []
   },
   "source": [
    "Some of ‘Low Fat’ values mis-coded as ‘low fat’ and ‘LF’. Also, some of ‘Regular’ are mentioned as ‘regular’. We need to fix them"
   ]
  },
  {
   "cell_type": "code",
   "execution_count": 25,
   "metadata": {
    "execution": {
     "iopub.execute_input": "2021-08-17T05:58:29.476413Z",
     "iopub.status.busy": "2021-08-17T05:58:29.475879Z",
     "iopub.status.idle": "2021-08-17T05:58:29.481694Z",
     "shell.execute_reply": "2021-08-17T05:58:29.482140Z",
     "shell.execute_reply.started": "2021-08-07T07:31:54.377367Z"
    },
    "papermill": {
     "duration": 0.089949,
     "end_time": "2021-08-17T05:58:29.482301",
     "exception": false,
     "start_time": "2021-08-17T05:58:29.392352",
     "status": "completed"
    },
    "tags": []
   },
   "outputs": [],
   "source": [
    "dataset['Item_Fat_Content'].replace(['low fat','LF','reg'],['Low Fat','Low Fat','Regular'],inplace = True)"
   ]
  },
  {
   "cell_type": "code",
   "execution_count": 26,
   "metadata": {
    "execution": {
     "iopub.execute_input": "2021-08-17T05:58:29.651895Z",
     "iopub.status.busy": "2021-08-17T05:58:29.651326Z",
     "iopub.status.idle": "2021-08-17T05:58:29.653929Z",
     "shell.execute_reply": "2021-08-17T05:58:29.654368Z",
     "shell.execute_reply.started": "2021-08-07T07:31:54.388086Z"
    },
    "papermill": {
     "duration": 0.09139,
     "end_time": "2021-08-17T05:58:29.654522",
     "exception": false,
     "start_time": "2021-08-17T05:58:29.563132",
     "status": "completed"
    },
    "tags": []
   },
   "outputs": [
    {
     "data": {
      "text/plain": [
       "Low Fat    5517\n",
       "Regular    3006\n",
       "Name: Item_Fat_Content, dtype: int64"
      ]
     },
     "execution_count": 26,
     "metadata": {},
     "output_type": "execute_result"
    }
   ],
   "source": [
    "dataset['Item_Fat_Content'].value_counts()"
   ]
  },
  {
   "cell_type": "code",
   "execution_count": 27,
   "metadata": {
    "execution": {
     "iopub.execute_input": "2021-08-17T05:58:29.818648Z",
     "iopub.status.busy": "2021-08-17T05:58:29.818113Z",
     "iopub.status.idle": "2021-08-17T05:58:29.825138Z",
     "shell.execute_reply": "2021-08-17T05:58:29.825552Z",
     "shell.execute_reply.started": "2021-08-07T07:31:54.402241Z"
    },
    "papermill": {
     "duration": 0.090455,
     "end_time": "2021-08-17T05:58:29.825720",
     "exception": false,
     "start_time": "2021-08-17T05:58:29.735265",
     "status": "completed"
    },
    "tags": []
   },
   "outputs": [
    {
     "data": {
      "text/plain": [
       "Fruits and Vegetables    1232\n",
       "Snack Foods              1200\n",
       "Household                 910\n",
       "Frozen Foods              856\n",
       "Dairy                     682\n",
       "Canned                    649\n",
       "Baking Goods              648\n",
       "Health and Hygiene        520\n",
       "Soft Drinks               445\n",
       "Meat                      425\n",
       "Breads                    251\n",
       "Hard Drinks               214\n",
       "Others                    169\n",
       "Starchy Foods             148\n",
       "Breakfast                 110\n",
       "Seafood                    64\n",
       "Name: Item_Type, dtype: int64"
      ]
     },
     "execution_count": 27,
     "metadata": {},
     "output_type": "execute_result"
    }
   ],
   "source": [
    "dataset['Item_Type'].value_counts()"
   ]
  },
  {
   "cell_type": "code",
   "execution_count": 28,
   "metadata": {
    "execution": {
     "iopub.execute_input": "2021-08-17T05:58:29.994456Z",
     "iopub.status.busy": "2021-08-17T05:58:29.993894Z",
     "iopub.status.idle": "2021-08-17T05:58:30.000800Z",
     "shell.execute_reply": "2021-08-17T05:58:30.001269Z",
     "shell.execute_reply.started": "2021-08-07T07:31:54.415777Z"
    },
    "papermill": {
     "duration": 0.094379,
     "end_time": "2021-08-17T05:58:30.001436",
     "exception": false,
     "start_time": "2021-08-17T05:58:29.907057",
     "status": "completed"
    },
    "tags": []
   },
   "outputs": [
    {
     "data": {
      "text/plain": [
       "OUT027    935\n",
       "OUT013    932\n",
       "OUT046    930\n",
       "OUT049    930\n",
       "OUT035    930\n",
       "OUT045    929\n",
       "OUT018    928\n",
       "OUT017    926\n",
       "OUT010    555\n",
       "OUT019    528\n",
       "Name: Outlet_Identifier, dtype: int64"
      ]
     },
     "execution_count": 28,
     "metadata": {},
     "output_type": "execute_result"
    }
   ],
   "source": [
    "dataset['Outlet_Identifier'].value_counts()"
   ]
  },
  {
   "cell_type": "code",
   "execution_count": 29,
   "metadata": {
    "execution": {
     "iopub.execute_input": "2021-08-17T05:58:30.177448Z",
     "iopub.status.busy": "2021-08-17T05:58:30.176906Z",
     "iopub.status.idle": "2021-08-17T05:58:30.291220Z",
     "shell.execute_reply": "2021-08-17T05:58:30.291624Z",
     "shell.execute_reply.started": "2021-08-07T07:31:54.429265Z"
    },
    "papermill": {
     "duration": 0.205635,
     "end_time": "2021-08-17T05:58:30.291814",
     "exception": false,
     "start_time": "2021-08-17T05:58:30.086179",
     "status": "completed"
    },
    "tags": []
   },
   "outputs": [
    {
     "data": {
      "text/plain": [
       "Medium    5203\n",
       "Small     2388\n",
       "High       932\n",
       "Name: Outlet_Size, dtype: int64"
      ]
     },
     "execution_count": 29,
     "metadata": {},
     "output_type": "execute_result"
    }
   ],
   "source": [
    "dataset['Outlet_Size'].value_counts()"
   ]
  },
  {
   "cell_type": "code",
   "execution_count": 30,
   "metadata": {
    "execution": {
     "iopub.execute_input": "2021-08-17T05:58:30.458312Z",
     "iopub.status.busy": "2021-08-17T05:58:30.457755Z",
     "iopub.status.idle": "2021-08-17T05:58:30.464692Z",
     "shell.execute_reply": "2021-08-17T05:58:30.465132Z",
     "shell.execute_reply.started": "2021-08-07T07:31:54.442965Z"
    },
    "papermill": {
     "duration": 0.091882,
     "end_time": "2021-08-17T05:58:30.465289",
     "exception": false,
     "start_time": "2021-08-17T05:58:30.373407",
     "status": "completed"
    },
    "tags": []
   },
   "outputs": [
    {
     "data": {
      "text/plain": [
       "Tier 3    3350\n",
       "Tier 2    2785\n",
       "Tier 1    2388\n",
       "Name: Outlet_Location_Type, dtype: int64"
      ]
     },
     "execution_count": 30,
     "metadata": {},
     "output_type": "execute_result"
    }
   ],
   "source": [
    "dataset['Outlet_Location_Type'].value_counts()"
   ]
  },
  {
   "cell_type": "code",
   "execution_count": 31,
   "metadata": {
    "execution": {
     "iopub.execute_input": "2021-08-17T05:58:30.632560Z",
     "iopub.status.busy": "2021-08-17T05:58:30.632029Z",
     "iopub.status.idle": "2021-08-17T05:58:30.638784Z",
     "shell.execute_reply": "2021-08-17T05:58:30.639215Z",
     "shell.execute_reply.started": "2021-08-07T07:31:54.454789Z"
    },
    "papermill": {
     "duration": 0.091864,
     "end_time": "2021-08-17T05:58:30.639364",
     "exception": false,
     "start_time": "2021-08-17T05:58:30.547500",
     "status": "completed"
    },
    "tags": []
   },
   "outputs": [
    {
     "data": {
      "text/plain": [
       "Supermarket Type1    5577\n",
       "Grocery Store        1083\n",
       "Supermarket Type3     935\n",
       "Supermarket Type2     928\n",
       "Name: Outlet_Type, dtype: int64"
      ]
     },
     "execution_count": 31,
     "metadata": {},
     "output_type": "execute_result"
    }
   ],
   "source": [
    "dataset['Outlet_Type'].value_counts()"
   ]
  },
  {
   "cell_type": "markdown",
   "metadata": {
    "papermill": {
     "duration": 0.082105,
     "end_time": "2021-08-17T05:58:30.803829",
     "exception": false,
     "start_time": "2021-08-17T05:58:30.721724",
     "status": "completed"
    },
    "tags": []
   },
   "source": [
    "*We will convert \"Outlet_Establishment_Year\" to Age of the Store to get more meaning from the data*"
   ]
  },
  {
   "cell_type": "code",
   "execution_count": 32,
   "metadata": {
    "execution": {
     "iopub.execute_input": "2021-08-17T05:58:30.972942Z",
     "iopub.status.busy": "2021-08-17T05:58:30.972328Z",
     "iopub.status.idle": "2021-08-17T05:58:30.994291Z",
     "shell.execute_reply": "2021-08-17T05:58:30.993744Z",
     "shell.execute_reply.started": "2021-08-07T07:31:54.466659Z"
    },
    "papermill": {
     "duration": 0.10803,
     "end_time": "2021-08-17T05:58:30.994419",
     "exception": false,
     "start_time": "2021-08-17T05:58:30.886389",
     "status": "completed"
    },
    "tags": []
   },
   "outputs": [
    {
     "data": {
      "text/html": [
       "<div>\n",
       "<style scoped>\n",
       "    .dataframe tbody tr th:only-of-type {\n",
       "        vertical-align: middle;\n",
       "    }\n",
       "\n",
       "    .dataframe tbody tr th {\n",
       "        vertical-align: top;\n",
       "    }\n",
       "\n",
       "    .dataframe thead th {\n",
       "        text-align: right;\n",
       "    }\n",
       "</style>\n",
       "<table border=\"1\" class=\"dataframe\">\n",
       "  <thead>\n",
       "    <tr style=\"text-align: right;\">\n",
       "      <th></th>\n",
       "      <th>Item_Identifier</th>\n",
       "      <th>Item_Weight</th>\n",
       "      <th>Item_Fat_Content</th>\n",
       "      <th>Item_Visibility</th>\n",
       "      <th>Item_Type</th>\n",
       "      <th>Item_MRP</th>\n",
       "      <th>Outlet_Identifier</th>\n",
       "      <th>Outlet_Size</th>\n",
       "      <th>Outlet_Location_Type</th>\n",
       "      <th>Outlet_Type</th>\n",
       "      <th>Item_Outlet_Sales</th>\n",
       "      <th>Years_Established</th>\n",
       "    </tr>\n",
       "  </thead>\n",
       "  <tbody>\n",
       "    <tr>\n",
       "      <th>0</th>\n",
       "      <td>FDA15</td>\n",
       "      <td>9.30</td>\n",
       "      <td>Low Fat</td>\n",
       "      <td>0.016047</td>\n",
       "      <td>Dairy</td>\n",
       "      <td>249.8092</td>\n",
       "      <td>OUT049</td>\n",
       "      <td>Medium</td>\n",
       "      <td>Tier 1</td>\n",
       "      <td>Supermarket Type1</td>\n",
       "      <td>3735.1380</td>\n",
       "      <td>22</td>\n",
       "    </tr>\n",
       "    <tr>\n",
       "      <th>1</th>\n",
       "      <td>DRC01</td>\n",
       "      <td>5.92</td>\n",
       "      <td>Regular</td>\n",
       "      <td>0.019278</td>\n",
       "      <td>Soft Drinks</td>\n",
       "      <td>48.2692</td>\n",
       "      <td>OUT018</td>\n",
       "      <td>Medium</td>\n",
       "      <td>Tier 3</td>\n",
       "      <td>Supermarket Type2</td>\n",
       "      <td>443.4228</td>\n",
       "      <td>12</td>\n",
       "    </tr>\n",
       "    <tr>\n",
       "      <th>2</th>\n",
       "      <td>FDN15</td>\n",
       "      <td>17.50</td>\n",
       "      <td>Low Fat</td>\n",
       "      <td>0.016760</td>\n",
       "      <td>Meat</td>\n",
       "      <td>141.6180</td>\n",
       "      <td>OUT049</td>\n",
       "      <td>Medium</td>\n",
       "      <td>Tier 1</td>\n",
       "      <td>Supermarket Type1</td>\n",
       "      <td>2097.2700</td>\n",
       "      <td>22</td>\n",
       "    </tr>\n",
       "    <tr>\n",
       "      <th>3</th>\n",
       "      <td>FDX07</td>\n",
       "      <td>19.20</td>\n",
       "      <td>Regular</td>\n",
       "      <td>0.000000</td>\n",
       "      <td>Fruits and Vegetables</td>\n",
       "      <td>182.0950</td>\n",
       "      <td>OUT010</td>\n",
       "      <td>Medium</td>\n",
       "      <td>Tier 3</td>\n",
       "      <td>Grocery Store</td>\n",
       "      <td>732.3800</td>\n",
       "      <td>23</td>\n",
       "    </tr>\n",
       "    <tr>\n",
       "      <th>4</th>\n",
       "      <td>NCD19</td>\n",
       "      <td>8.93</td>\n",
       "      <td>Low Fat</td>\n",
       "      <td>0.000000</td>\n",
       "      <td>Household</td>\n",
       "      <td>53.8614</td>\n",
       "      <td>OUT013</td>\n",
       "      <td>High</td>\n",
       "      <td>Tier 3</td>\n",
       "      <td>Supermarket Type1</td>\n",
       "      <td>994.7052</td>\n",
       "      <td>34</td>\n",
       "    </tr>\n",
       "  </tbody>\n",
       "</table>\n",
       "</div>"
      ],
      "text/plain": [
       "  Item_Identifier  Item_Weight Item_Fat_Content  Item_Visibility  \\\n",
       "0           FDA15         9.30          Low Fat         0.016047   \n",
       "1           DRC01         5.92          Regular         0.019278   \n",
       "2           FDN15        17.50          Low Fat         0.016760   \n",
       "3           FDX07        19.20          Regular         0.000000   \n",
       "4           NCD19         8.93          Low Fat         0.000000   \n",
       "\n",
       "               Item_Type  Item_MRP Outlet_Identifier Outlet_Size  \\\n",
       "0                  Dairy  249.8092            OUT049      Medium   \n",
       "1            Soft Drinks   48.2692            OUT018      Medium   \n",
       "2                   Meat  141.6180            OUT049      Medium   \n",
       "3  Fruits and Vegetables  182.0950            OUT010      Medium   \n",
       "4              Household   53.8614            OUT013        High   \n",
       "\n",
       "  Outlet_Location_Type        Outlet_Type  Item_Outlet_Sales  \\\n",
       "0               Tier 1  Supermarket Type1          3735.1380   \n",
       "1               Tier 3  Supermarket Type2           443.4228   \n",
       "2               Tier 1  Supermarket Type1          2097.2700   \n",
       "3               Tier 3      Grocery Store           732.3800   \n",
       "4               Tier 3  Supermarket Type1           994.7052   \n",
       "\n",
       "   Years_Established  \n",
       "0                 22  \n",
       "1                 12  \n",
       "2                 22  \n",
       "3                 23  \n",
       "4                 34  "
      ]
     },
     "execution_count": 32,
     "metadata": {},
     "output_type": "execute_result"
    }
   ],
   "source": [
    "dataset['Years_Established'] = dataset['Outlet_Establishment_Year'].apply(lambda x: 2021 - x) \n",
    "dataset = dataset.drop(columns=['Outlet_Establishment_Year'])\n",
    "dataset.head()"
   ]
  },
  {
   "cell_type": "markdown",
   "metadata": {
    "papermill": {
     "duration": 0.082383,
     "end_time": "2021-08-17T05:58:31.159563",
     "exception": false,
     "start_time": "2021-08-17T05:58:31.077180",
     "status": "completed"
    },
    "tags": []
   },
   "source": [
    "# Part 2: Exploratory Data Analysis"
   ]
  },
  {
   "cell_type": "markdown",
   "metadata": {
    "papermill": {
     "duration": 0.082758,
     "end_time": "2021-08-17T05:58:31.325202",
     "exception": false,
     "start_time": "2021-08-17T05:58:31.242444",
     "status": "completed"
    },
    "tags": []
   },
   "source": [
    "## A] Univariate Analysis"
   ]
  },
  {
   "cell_type": "code",
   "execution_count": 33,
   "metadata": {
    "execution": {
     "iopub.execute_input": "2021-08-17T05:58:31.498176Z",
     "iopub.status.busy": "2021-08-17T05:58:31.497550Z",
     "iopub.status.idle": "2021-08-17T05:58:31.501514Z",
     "shell.execute_reply": "2021-08-17T05:58:31.500984Z",
     "shell.execute_reply.started": "2021-08-07T07:31:54.601064Z"
    },
    "papermill": {
     "duration": 0.093616,
     "end_time": "2021-08-17T05:58:31.501636",
     "exception": false,
     "start_time": "2021-08-17T05:58:31.408020",
     "status": "completed"
    },
    "tags": []
   },
   "outputs": [
    {
     "data": {
      "text/plain": [
       "Index(['Item_Identifier', 'Item_Fat_Content', 'Item_Type', 'Outlet_Identifier',\n",
       "       'Outlet_Size', 'Outlet_Location_Type', 'Outlet_Type'],\n",
       "      dtype='object')"
      ]
     },
     "execution_count": 33,
     "metadata": {},
     "output_type": "execute_result"
    }
   ],
   "source": [
    "# Check the name of coloumns which contain string\n",
    "dataset.select_dtypes(include='object').columns"
   ]
  },
  {
   "cell_type": "markdown",
   "metadata": {
    "papermill": {
     "duration": 0.082831,
     "end_time": "2021-08-17T05:58:31.667865",
     "exception": false,
     "start_time": "2021-08-17T05:58:31.585034",
     "status": "completed"
    },
    "tags": []
   },
   "source": [
    "### 1) Item Fat Content"
   ]
  },
  {
   "cell_type": "code",
   "execution_count": 34,
   "metadata": {
    "execution": {
     "iopub.execute_input": "2021-08-17T05:58:31.841245Z",
     "iopub.status.busy": "2021-08-17T05:58:31.840705Z",
     "iopub.status.idle": "2021-08-17T05:58:31.977443Z",
     "shell.execute_reply": "2021-08-17T05:58:31.976866Z",
     "shell.execute_reply.started": "2021-08-07T07:31:54.611251Z"
    },
    "papermill": {
     "duration": 0.222518,
     "end_time": "2021-08-17T05:58:31.977577",
     "exception": false,
     "start_time": "2021-08-17T05:58:31.755059",
     "status": "completed"
    },
    "tags": []
   },
   "outputs": [
    {
     "data": {
      "text/plain": [
       "<AxesSubplot:xlabel='Item_Fat_Content', ylabel='count'>"
      ]
     },
     "execution_count": 34,
     "metadata": {},
     "output_type": "execute_result"
    },
    {
     "data": {
      "image/png": "[encoded data removed]",
      "text/plain": [
       "<Figure size 576x360 with 1 Axes>"
      ]
     },
     "metadata": {},
     "output_type": "display_data"
    }
   ],
   "source": [
    "plt.figure(figsize=(8,5))\n",
    "sns.countplot('Item_Fat_Content',data=dataset,palette='Set1')"
   ]
  },
  {
   "cell_type": "markdown",
   "metadata": {
    "papermill": {
     "duration": 0.08536,
     "end_time": "2021-08-17T05:58:32.148809",
     "exception": false,
     "start_time": "2021-08-17T05:58:32.063449",
     "status": "completed"
    },
    "tags": []
   },
   "source": [
    "Observation: People bought more Low Fat Items"
   ]
  },
  {
   "cell_type": "markdown",
   "metadata": {
    "papermill": {
     "duration": 0.086287,
     "end_time": "2021-08-17T05:58:32.321620",
     "exception": false,
     "start_time": "2021-08-17T05:58:32.235333",
     "status": "completed"
    },
    "tags": []
   },
   "source": [
    "### 2) Item Type"
   ]
  },
  {
   "cell_type": "code",
   "execution_count": 35,
   "metadata": {
    "execution": {
     "iopub.execute_input": "2021-08-17T05:58:32.503808Z",
     "iopub.status.busy": "2021-08-17T05:58:32.503197Z",
     "iopub.status.idle": "2021-08-17T05:58:32.804491Z",
     "shell.execute_reply": "2021-08-17T05:58:32.804026Z",
     "shell.execute_reply.started": "2021-08-07T07:31:54.75498Z"
    },
    "papermill": {
     "duration": 0.396598,
     "end_time": "2021-08-17T05:58:32.804618",
     "exception": false,
     "start_time": "2021-08-17T05:58:32.408020",
     "status": "completed"
    },
    "tags": []
   },
   "outputs": [
    {
     "data": {
      "text/plain": [
       "<AxesSubplot:xlabel='Item_Type', ylabel='count'>"
      ]
     },
     "execution_count": 35,
     "metadata": {},
     "output_type": "execute_result"
    },
    {
     "data": {
      "image/png": "[encoded data removed]",
      "text/plain": [
       "<Figure size 1728x576 with 1 Axes>"
      ]
     },
     "metadata": {},
     "output_type": "display_data"
    }
   ],
   "source": [
    "plt.figure(figsize=(24,8))\n",
    "sns.countplot('Item_Type',data=dataset,palette='twilight')"
   ]
  },
  {
   "cell_type": "markdown",
   "metadata": {
    "papermill": {
     "duration": 0.085744,
     "end_time": "2021-08-17T05:58:32.975884",
     "exception": false,
     "start_time": "2021-08-17T05:58:32.890140",
     "status": "completed"
    },
    "tags": []
   },
   "source": [
    "Observation: People bought more Fruits and Vegetables"
   ]
  },
  {
   "cell_type": "markdown",
   "metadata": {
    "papermill": {
     "duration": 0.084349,
     "end_time": "2021-08-17T05:58:33.145225",
     "exception": false,
     "start_time": "2021-08-17T05:58:33.060876",
     "status": "completed"
    },
    "tags": []
   },
   "source": [
    "### 3) Outlet Size"
   ]
  },
  {
   "cell_type": "code",
   "execution_count": 36,
   "metadata": {
    "execution": {
     "iopub.execute_input": "2021-08-17T05:58:33.324421Z",
     "iopub.status.busy": "2021-08-17T05:58:33.323822Z",
     "iopub.status.idle": "2021-08-17T05:58:33.456710Z",
     "shell.execute_reply": "2021-08-17T05:58:33.456152Z",
     "shell.execute_reply.started": "2021-08-07T07:31:55.073435Z"
    },
    "papermill": {
     "duration": 0.226221,
     "end_time": "2021-08-17T05:58:33.456836",
     "exception": false,
     "start_time": "2021-08-17T05:58:33.230615",
     "status": "completed"
    },
    "tags": []
   },
   "outputs": [
    {
     "data": {
      "text/plain": [
       "<AxesSubplot:xlabel='Outlet_Size', ylabel='count'>"
      ]
     },
     "execution_count": 36,
     "metadata": {},
     "output_type": "execute_result"
    },
    {
     "data": {
      "image/png": "[encoded data removed]",
      "text/plain": [
       "<Figure size 576x360 with 1 Axes>"
      ]
     },
     "metadata": {},
     "output_type": "display_data"
    }
   ],
   "source": [
    "plt.figure(figsize=(8,5))\n",
    "sns.countplot('Outlet_Size',data=dataset,palette='Set2')"
   ]
  },
  {
   "cell_type": "markdown",
   "metadata": {
    "papermill": {
     "duration": 0.085759,
     "end_time": "2021-08-17T05:58:33.628557",
     "exception": false,
     "start_time": "2021-08-17T05:58:33.542798",
     "status": "completed"
    },
    "tags": []
   },
   "source": [
    "Observation: We have more Medium Outlets"
   ]
  },
  {
   "cell_type": "markdown",
   "metadata": {
    "papermill": {
     "duration": 0.08714,
     "end_time": "2021-08-17T05:58:33.801838",
     "exception": false,
     "start_time": "2021-08-17T05:58:33.714698",
     "status": "completed"
    },
    "tags": []
   },
   "source": [
    "### 4) Outlet Location"
   ]
  },
  {
   "cell_type": "code",
   "execution_count": 37,
   "metadata": {
    "execution": {
     "iopub.execute_input": "2021-08-17T05:58:33.984047Z",
     "iopub.status.busy": "2021-08-17T05:58:33.983061Z",
     "iopub.status.idle": "2021-08-17T05:58:34.129844Z",
     "shell.execute_reply": "2021-08-17T05:58:34.129370Z",
     "shell.execute_reply.started": "2021-08-07T07:31:55.217647Z"
    },
    "papermill": {
     "duration": 0.242024,
     "end_time": "2021-08-17T05:58:34.129990",
     "exception": false,
     "start_time": "2021-08-17T05:58:33.887966",
     "status": "completed"
    },
    "tags": []
   },
   "outputs": [
    {
     "data": {
      "text/plain": [
       "<AxesSubplot:xlabel='Outlet_Location_Type', ylabel='count'>"
      ]
     },
     "execution_count": 37,
     "metadata": {},
     "output_type": "execute_result"
    },
    {
     "data": {
      "image/png": "[encoded data removed]",
      "text/plain": [
       "<Figure size 576x360 with 1 Axes>"
      ]
     },
     "metadata": {},
     "output_type": "display_data"
    }
   ],
   "source": [
    "plt.figure(figsize=(8,5))\n",
    "sns.countplot('Outlet_Location_Type',data=dataset,palette='ocean')"
   ]
  },
  {
   "cell_type": "markdown",
   "metadata": {
    "papermill": {
     "duration": 0.087245,
     "end_time": "2021-08-17T05:58:34.304131",
     "exception": false,
     "start_time": "2021-08-17T05:58:34.216886",
     "status": "completed"
    },
    "tags": []
   },
   "source": [
    "Observation: Maximum outlets in Tier 3 cities"
   ]
  },
  {
   "cell_type": "markdown",
   "metadata": {
    "papermill": {
     "duration": 0.086738,
     "end_time": "2021-08-17T05:58:34.477751",
     "exception": false,
     "start_time": "2021-08-17T05:58:34.391013",
     "status": "completed"
    },
    "tags": []
   },
   "source": [
    "### 5) Outlet Type"
   ]
  },
  {
   "cell_type": "code",
   "execution_count": 38,
   "metadata": {
    "execution": {
     "iopub.execute_input": "2021-08-17T05:58:34.661846Z",
     "iopub.status.busy": "2021-08-17T05:58:34.659301Z",
     "iopub.status.idle": "2021-08-17T05:58:34.832756Z",
     "shell.execute_reply": "2021-08-17T05:58:34.832170Z",
     "shell.execute_reply.started": "2021-08-07T07:32:53.963226Z"
    },
    "papermill": {
     "duration": 0.268385,
     "end_time": "2021-08-17T05:58:34.832899",
     "exception": false,
     "start_time": "2021-08-17T05:58:34.564514",
     "status": "completed"
    },
    "tags": []
   },
   "outputs": [
    {
     "data": {
      "text/plain": [
       "<AxesSubplot:xlabel='Outlet_Type', ylabel='count'>"
      ]
     },
     "execution_count": 38,
     "metadata": {},
     "output_type": "execute_result"
    },
    {
     "data": {
      "image/png": "[encoded data removed]",
      "text/plain": [
       "<Figure size 576x360 with 1 Axes>"
      ]
     },
     "metadata": {},
     "output_type": "display_data"
    }
   ],
   "source": [
    "plt.figure(figsize=(8,5))\n",
    "sns.countplot('Outlet_Type',data=dataset,palette='spring')"
   ]
  },
  {
   "cell_type": "markdown",
   "metadata": {
    "papermill": {
     "duration": 0.090096,
     "end_time": "2021-08-17T05:58:35.022707",
     "exception": false,
     "start_time": "2021-08-17T05:58:34.932611",
     "status": "completed"
    },
    "tags": []
   },
   "source": [
    "Observation: Maximum supermarket are of Type 1"
   ]
  },
  {
   "cell_type": "markdown",
   "metadata": {
    "papermill": {
     "duration": 0.093519,
     "end_time": "2021-08-17T05:58:35.204038",
     "exception": false,
     "start_time": "2021-08-17T05:58:35.110519",
     "status": "completed"
    },
    "tags": []
   },
   "source": [
    "## B] Bivariate Analysis"
   ]
  },
  {
   "cell_type": "code",
   "execution_count": 39,
   "metadata": {
    "execution": {
     "iopub.execute_input": "2021-08-17T05:58:35.391485Z",
     "iopub.status.busy": "2021-08-17T05:58:35.390803Z",
     "iopub.status.idle": "2021-08-17T05:58:35.395211Z",
     "shell.execute_reply": "2021-08-17T05:58:35.394644Z",
     "shell.execute_reply.started": "2021-08-07T07:33:50.243137Z"
    },
    "papermill": {
     "duration": 0.102086,
     "end_time": "2021-08-17T05:58:35.395343",
     "exception": false,
     "start_time": "2021-08-17T05:58:35.293257",
     "status": "completed"
    },
    "tags": []
   },
   "outputs": [
    {
     "data": {
      "text/plain": [
       "Index(['Item_Identifier', 'Item_Fat_Content', 'Item_Type', 'Outlet_Identifier',\n",
       "       'Outlet_Size', 'Outlet_Location_Type', 'Outlet_Type'],\n",
       "      dtype='object')"
      ]
     },
     "execution_count": 39,
     "metadata": {},
     "output_type": "execute_result"
    }
   ],
   "source": [
    "# Check the name of coloumns which contain string\n",
    "dataset.select_dtypes(include='object').columns"
   ]
  },
  {
   "cell_type": "markdown",
   "metadata": {
    "papermill": {
     "duration": 0.090582,
     "end_time": "2021-08-17T05:58:35.576649",
     "exception": false,
     "start_time": "2021-08-17T05:58:35.486067",
     "status": "completed"
    },
    "tags": []
   },
   "source": [
    "### 1) Item Fat Content to Item Outlet Sales"
   ]
  },
  {
   "cell_type": "code",
   "execution_count": 40,
   "metadata": {
    "execution": {
     "iopub.execute_input": "2021-08-17T05:58:35.763496Z",
     "iopub.status.busy": "2021-08-17T05:58:35.762929Z",
     "iopub.status.idle": "2021-08-17T05:58:36.025278Z",
     "shell.execute_reply": "2021-08-17T05:58:36.024747Z",
     "shell.execute_reply.started": "2021-08-07T07:34:25.371431Z"
    },
    "papermill": {
     "duration": 0.358684,
     "end_time": "2021-08-17T05:58:36.025432",
     "exception": false,
     "start_time": "2021-08-17T05:58:35.666748",
     "status": "completed"
    },
    "tags": []
   },
   "outputs": [
    {
     "data": {
      "text/plain": [
       "<AxesSubplot:xlabel='Item_Fat_Content', ylabel='Item_Outlet_Sales'>"
      ]
     },
     "execution_count": 40,
     "metadata": {},
     "output_type": "execute_result"
    },
    {
     "data": {
      "image/png": "[encoded data removed]",
      "text/plain": [
       "<Figure size 576x360 with 1 Axes>"
      ]
     },
     "metadata": {},
     "output_type": "display_data"
    }
   ],
   "source": [
    "plt.figure(figsize=(8,5))\n",
    "sns.barplot('Item_Fat_Content','Item_Outlet_Sales',data=dataset,palette='summer')"
   ]
  },
  {
   "cell_type": "markdown",
   "metadata": {
    "papermill": {
     "duration": 0.095066,
     "end_time": "2021-08-17T05:58:36.214983",
     "exception": false,
     "start_time": "2021-08-17T05:58:36.119917",
     "status": "completed"
    },
    "tags": []
   },
   "source": [
    "Observation: Low Fat and Regular both are contributing equally to the revenue generation"
   ]
  },
  {
   "cell_type": "markdown",
   "metadata": {
    "papermill": {
     "duration": 0.089019,
     "end_time": "2021-08-17T05:58:36.397447",
     "exception": false,
     "start_time": "2021-08-17T05:58:36.308428",
     "status": "completed"
    },
    "tags": []
   },
   "source": [
    "### 2) Item Visiblity to Item Outlet Sales"
   ]
  },
  {
   "cell_type": "code",
   "execution_count": 41,
   "metadata": {
    "execution": {
     "iopub.execute_input": "2021-08-17T05:58:36.607793Z",
     "iopub.status.busy": "2021-08-17T05:58:36.606630Z",
     "iopub.status.idle": "2021-08-17T05:58:36.840281Z",
     "shell.execute_reply": "2021-08-17T05:58:36.839713Z",
     "shell.execute_reply.started": "2021-08-07T07:35:08.336488Z"
    },
    "papermill": {
     "duration": 0.350521,
     "end_time": "2021-08-17T05:58:36.840407",
     "exception": false,
     "start_time": "2021-08-17T05:58:36.489886",
     "status": "completed"
    },
    "tags": []
   },
   "outputs": [
    {
     "data": {
      "text/plain": [
       "<matplotlib.collections.PathCollection at 0x1e7e045d5b0>"
      ]
     },
     "execution_count": 41,
     "metadata": {},
     "output_type": "execute_result"
    },
    {
     "data": {
      "image/png": "[encoded data removed]",
      "text/plain": [
       "<Figure size 576x360 with 1 Axes>"
      ]
     },
     "metadata": {},
     "output_type": "display_data"
    }
   ],
   "source": [
    "plt.figure(figsize=(8,5))\n",
    "plt.scatter('Item_Visibility','Item_Outlet_Sales',data=dataset)"
   ]
  },
  {
   "cell_type": "markdown",
   "metadata": {
    "papermill": {
     "duration": 0.092047,
     "end_time": "2021-08-17T05:58:37.024443",
     "exception": false,
     "start_time": "2021-08-17T05:58:36.932396",
     "status": "completed"
    },
    "tags": []
   },
   "source": [
    "Observation: Here we have intresting ovservation, where the visiblity of Items is Zero, which suggest those items kept behind in shelf and amlost have no visiblity can also be sold. This show Consumer tend to search for their own products"
   ]
  },
  {
   "cell_type": "markdown",
   "metadata": {
    "papermill": {
     "duration": 0.090035,
     "end_time": "2021-08-17T05:58:37.204581",
     "exception": false,
     "start_time": "2021-08-17T05:58:37.114546",
     "status": "completed"
    },
    "tags": []
   },
   "source": [
    "### 3) Item Type to Item Outlet Sales"
   ]
  },
  {
   "cell_type": "code",
   "execution_count": 42,
   "metadata": {
    "execution": {
     "iopub.execute_input": "2021-08-17T05:58:37.394766Z",
     "iopub.status.busy": "2021-08-17T05:58:37.392180Z",
     "iopub.status.idle": "2021-08-17T05:58:38.127896Z",
     "shell.execute_reply": "2021-08-17T05:58:38.127294Z",
     "shell.execute_reply.started": "2021-08-07T07:36:23.981929Z"
    },
    "papermill": {
     "duration": 0.833585,
     "end_time": "2021-08-17T05:58:38.128032",
     "exception": false,
     "start_time": "2021-08-17T05:58:37.294447",
     "status": "completed"
    },
    "tags": []
   },
   "outputs": [
    {
     "data": {
      "text/plain": [
       "<AxesSubplot:xlabel='Item_Outlet_Sales', ylabel='Item_Type'>"
      ]
     },
     "execution_count": 42,
     "metadata": {},
     "output_type": "execute_result"
    },
    {
     "data": {
      "image/png": "[encoded data removed]",
      "text/plain": [
       "<Figure size 720x576 with 1 Axes>"
      ]
     },
     "metadata": {},
     "output_type": "display_data"
    }
   ],
   "source": [
    "plt.figure(figsize=(10,8))\n",
    "sns.barplot(y='Item_Type',x='Item_Outlet_Sales',data=dataset,palette='spring')"
   ]
  },
  {
   "cell_type": "markdown",
   "metadata": {
    "papermill": {
     "duration": 0.092222,
     "end_time": "2021-08-17T05:58:38.312996",
     "exception": false,
     "start_time": "2021-08-17T05:58:38.220774",
     "status": "completed"
    },
    "tags": []
   },
   "source": [
    "Observation: Although Fruits and Vegetables unit sold are high, however revenue generated by Seafood is much higher, so we have to focus more on such products"
   ]
  },
  {
   "cell_type": "markdown",
   "metadata": {
    "papermill": {
     "duration": 0.091614,
     "end_time": "2021-08-17T05:58:38.496125",
     "exception": false,
     "start_time": "2021-08-17T05:58:38.404511",
     "status": "completed"
    },
    "tags": []
   },
   "source": [
    "### 4) Item MRP to Item Outlet Sales"
   ]
  },
  {
   "cell_type": "code",
   "execution_count": 43,
   "metadata": {
    "execution": {
     "iopub.execute_input": "2021-08-17T05:58:38.697153Z",
     "iopub.status.busy": "2021-08-17T05:58:38.696557Z",
     "iopub.status.idle": "2021-08-17T05:58:38.913243Z",
     "shell.execute_reply": "2021-08-17T05:58:38.913730Z",
     "shell.execute_reply.started": "2021-08-07T07:39:38.463967Z"
    },
    "papermill": {
     "duration": 0.326218,
     "end_time": "2021-08-17T05:58:38.913898",
     "exception": false,
     "start_time": "2021-08-17T05:58:38.587680",
     "status": "completed"
    },
    "tags": []
   },
   "outputs": [
    {
     "data": {
      "text/plain": [
       "Text(0, 0.5, 'Item Outlet Sales')"
      ]
     },
     "execution_count": 43,
     "metadata": {},
     "output_type": "execute_result"
    },
    {
     "data": {
      "image/png": "[encoded data removed]",
      "text/plain": [
       "<Figure size 576x360 with 1 Axes>"
      ]
     },
     "metadata": {},
     "output_type": "display_data"
    }
   ],
   "source": [
    "plt.figure(figsize=(8,5))\n",
    "plt.scatter(y='Item_Outlet_Sales',x='Item_MRP',data=dataset)\n",
    "plt.xlabel('Item MRP')\n",
    "plt.ylabel('Item Outlet Sales')"
   ]
  },
  {
   "cell_type": "markdown",
   "metadata": {
    "papermill": {
     "duration": 0.095431,
     "end_time": "2021-08-17T05:58:39.106158",
     "exception": false,
     "start_time": "2021-08-17T05:58:39.010727",
     "status": "completed"
    },
    "tags": []
   },
   "source": [
    "Observation: Items with higher MRP are sold maximum"
   ]
  },
  {
   "cell_type": "markdown",
   "metadata": {
    "papermill": {
     "duration": 0.095194,
     "end_time": "2021-08-17T05:58:39.294358",
     "exception": false,
     "start_time": "2021-08-17T05:58:39.199164",
     "status": "completed"
    },
    "tags": []
   },
   "source": [
    "### 5) Outlet Size to Item Outlet Sales"
   ]
  },
  {
   "cell_type": "code",
   "execution_count": 44,
   "metadata": {
    "execution": {
     "iopub.execute_input": "2021-08-17T05:58:39.486602Z",
     "iopub.status.busy": "2021-08-17T05:58:39.486039Z",
     "iopub.status.idle": "2021-08-17T05:58:39.771766Z",
     "shell.execute_reply": "2021-08-17T05:58:39.772230Z",
     "shell.execute_reply.started": "2021-08-07T07:40:48.827787Z"
    },
    "papermill": {
     "duration": 0.382407,
     "end_time": "2021-08-17T05:58:39.772403",
     "exception": false,
     "start_time": "2021-08-17T05:58:39.389996",
     "status": "completed"
    },
    "tags": []
   },
   "outputs": [
    {
     "data": {
      "text/plain": [
       "<AxesSubplot:xlabel='Outlet_Size', ylabel='Item_Outlet_Sales'>"
      ]
     },
     "execution_count": 44,
     "metadata": {},
     "output_type": "execute_result"
    },
    {
     "data": {
      "image/png": "[encoded data removed]",
      "text/plain": [
       "<Figure size 576x360 with 1 Axes>"
      ]
     },
     "metadata": {},
     "output_type": "display_data"
    }
   ],
   "source": [
    "plt.figure(figsize=(8,5))\n",
    "sns.barplot(x='Outlet_Size',y='Item_Outlet_Sales',data=dataset,palette='mako')"
   ]
  },
  {
   "cell_type": "markdown",
   "metadata": {
    "papermill": {
     "duration": 0.094121,
     "end_time": "2021-08-17T05:58:39.960265",
     "exception": false,
     "start_time": "2021-08-17T05:58:39.866144",
     "status": "completed"
    },
    "tags": []
   },
   "source": [
    "Observation: Medium and High size outlet have maximum revenue generation power"
   ]
  },
  {
   "cell_type": "markdown",
   "metadata": {
    "papermill": {
     "duration": 0.094603,
     "end_time": "2021-08-17T05:58:40.149909",
     "exception": false,
     "start_time": "2021-08-17T05:58:40.055306",
     "status": "completed"
    },
    "tags": []
   },
   "source": [
    "### 6) Outlet Location to Item Outlet Sales"
   ]
  },
  {
   "cell_type": "code",
   "execution_count": 45,
   "metadata": {
    "execution": {
     "iopub.execute_input": "2021-08-17T05:58:40.344628Z",
     "iopub.status.busy": "2021-08-17T05:58:40.344085Z",
     "iopub.status.idle": "2021-08-17T05:58:40.624686Z",
     "shell.execute_reply": "2021-08-17T05:58:40.625091Z",
     "shell.execute_reply.started": "2021-08-07T07:42:12.077435Z"
    },
    "papermill": {
     "duration": 0.38137,
     "end_time": "2021-08-17T05:58:40.625273",
     "exception": false,
     "start_time": "2021-08-17T05:58:40.243903",
     "status": "completed"
    },
    "tags": []
   },
   "outputs": [
    {
     "data": {
      "text/plain": [
       "<AxesSubplot:xlabel='Outlet_Location_Type', ylabel='Item_Outlet_Sales'>"
      ]
     },
     "execution_count": 45,
     "metadata": {},
     "output_type": "execute_result"
    },
    {
     "data": {
      "image/png": "[encoded data removed]",
      "text/plain": [
       "<Figure size 576x360 with 1 Axes>"
      ]
     },
     "metadata": {},
     "output_type": "display_data"
    }
   ],
   "source": [
    "plt.figure(figsize=(8,5))\n",
    "sns.barplot(x='Outlet_Location_Type',y='Item_Outlet_Sales',data=dataset,palette='autumn')"
   ]
  },
  {
   "cell_type": "markdown",
   "metadata": {
    "papermill": {
     "duration": 0.095086,
     "end_time": "2021-08-17T05:58:40.815824",
     "exception": false,
     "start_time": "2021-08-17T05:58:40.720738",
     "status": "completed"
    },
    "tags": []
   },
   "source": [
    "Observation: Tier 2 & 3 have more revenue generation power although we have maximum number ot outlet in Tier 3 cities so it justify the number"
   ]
  },
  {
   "cell_type": "markdown",
   "metadata": {
    "papermill": {
     "duration": 0.095981,
     "end_time": "2021-08-17T05:58:41.007238",
     "exception": false,
     "start_time": "2021-08-17T05:58:40.911257",
     "status": "completed"
    },
    "tags": []
   },
   "source": [
    "## C] Multivariate Analysis"
   ]
  },
  {
   "cell_type": "markdown",
   "metadata": {
    "papermill": {
     "duration": 0.095266,
     "end_time": "2021-08-17T05:58:41.198189",
     "exception": false,
     "start_time": "2021-08-17T05:58:41.102923",
     "status": "completed"
    },
    "tags": []
   },
   "source": [
    "### 1) Item Type by Item Fat Content to Item Outlet Sales"
   ]
  },
  {
   "cell_type": "code",
   "execution_count": 46,
   "metadata": {
    "execution": {
     "iopub.execute_input": "2021-08-17T05:58:41.391872Z",
     "iopub.status.busy": "2021-08-17T05:58:41.391294Z",
     "iopub.status.idle": "2021-08-17T05:58:42.536883Z",
     "shell.execute_reply": "2021-08-17T05:58:42.536379Z",
     "shell.execute_reply.started": "2021-08-07T07:44:13.407756Z"
    },
    "papermill": {
     "duration": 1.242322,
     "end_time": "2021-08-17T05:58:42.537033",
     "exception": false,
     "start_time": "2021-08-17T05:58:41.294711",
     "status": "completed"
    },
    "tags": []
   },
   "outputs": [
    {
     "data": {
      "text/plain": [
       "<matplotlib.legend.Legend at 0x1e7e08c3670>"
      ]
     },
     "execution_count": 46,
     "metadata": {},
     "output_type": "execute_result"
    },
    {
     "data": {
      "image/png": "[encoded data removed]",
      "text/plain": [
       "<Figure size 1800x360 with 1 Axes>"
      ]
     },
     "metadata": {},
     "output_type": "display_data"
    }
   ],
   "source": [
    "plt.figure(figsize=(25,5))\n",
    "sns.barplot('Item_Type','Item_Outlet_Sales',hue='Item_Fat_Content',data=dataset,palette='Set1')\n",
    "plt.legend()"
   ]
  },
  {
   "cell_type": "markdown",
   "metadata": {
    "papermill": {
     "duration": 0.095425,
     "end_time": "2021-08-17T05:58:42.728288",
     "exception": false,
     "start_time": "2021-08-17T05:58:42.632863",
     "status": "completed"
    },
    "tags": []
   },
   "source": [
    "Observation: Mostly we have equal revenue generation from Fat and Regular Food Items"
   ]
  },
  {
   "cell_type": "markdown",
   "metadata": {
    "papermill": {
     "duration": 0.096148,
     "end_time": "2021-08-17T05:58:42.920695",
     "exception": false,
     "start_time": "2021-08-17T05:58:42.824547",
     "status": "completed"
    },
    "tags": []
   },
   "source": [
    "### 2) Outlet Location Type by Outlet Type to Item Outlet Sales"
   ]
  },
  {
   "cell_type": "code",
   "execution_count": 47,
   "metadata": {
    "execution": {
     "iopub.execute_input": "2021-08-17T05:58:43.122009Z",
     "iopub.status.busy": "2021-08-17T05:58:43.121357Z",
     "iopub.status.idle": "2021-08-17T05:58:43.655643Z",
     "shell.execute_reply": "2021-08-17T05:58:43.655158Z",
     "shell.execute_reply.started": "2021-08-07T07:45:28.797062Z"
    },
    "papermill": {
     "duration": 0.63841,
     "end_time": "2021-08-17T05:58:43.655807",
     "exception": false,
     "start_time": "2021-08-17T05:58:43.017397",
     "status": "completed"
    },
    "tags": []
   },
   "outputs": [
    {
     "data": {
      "text/plain": [
       "<matplotlib.legend.Legend at 0x1e7e0ba3970>"
      ]
     },
     "execution_count": 47,
     "metadata": {},
     "output_type": "execute_result"
    },
    {
     "data": {
      "image/png": "[encoded data removed]",
      "text/plain": [
       "<Figure size 720x360 with 1 Axes>"
      ]
     },
     "metadata": {},
     "output_type": "display_data"
    }
   ],
   "source": [
    "plt.figure(figsize=(10,5))\n",
    "sns.barplot('Outlet_Location_Type','Item_Outlet_Sales',hue='Outlet_Type',data=dataset,palette='mako')\n",
    "plt.legend()"
   ]
  },
  {
   "cell_type": "markdown",
   "metadata": {
    "papermill": {
     "duration": 0.097093,
     "end_time": "2021-08-17T05:58:43.850329",
     "exception": false,
     "start_time": "2021-08-17T05:58:43.753236",
     "status": "completed"
    },
    "tags": []
   },
   "source": [
    "Observation: Here we have intresting ovservation, where the visiblity of Items is Zero, which suggest those items kept behind in shelf and almost have no visiblity can also be sold. This show Consumer tend to search for their own products"
   ]
  },
  {
   "cell_type": "markdown",
   "metadata": {
    "papermill": {
     "duration": 0.098194,
     "end_time": "2021-08-17T05:58:44.045785",
     "exception": false,
     "start_time": "2021-08-17T05:58:43.947591",
     "status": "completed"
    },
    "tags": []
   },
   "source": [
    "## Distplot"
   ]
  },
  {
   "cell_type": "code",
   "execution_count": 48,
   "metadata": {
    "execution": {
     "iopub.execute_input": "2021-08-17T05:58:44.263858Z",
     "iopub.status.busy": "2021-08-17T05:58:44.262880Z",
     "iopub.status.idle": "2021-08-17T05:58:44.769854Z",
     "shell.execute_reply": "2021-08-17T05:58:44.769248Z",
     "shell.execute_reply.started": "2021-08-07T07:46:36.937526Z"
    },
    "papermill": {
     "duration": 0.627098,
     "end_time": "2021-08-17T05:58:44.769990",
     "exception": false,
     "start_time": "2021-08-17T05:58:44.142892",
     "status": "completed"
    },
    "tags": []
   },
   "outputs": [
    {
     "data": {
      "image/png": "[encoded data removed]",
      "text/plain": [
       "<Figure size 1152x648 with 1 Axes>"
      ]
     },
     "metadata": {},
     "output_type": "display_data"
    }
   ],
   "source": [
    "# distplot of the target variable\n",
    "\n",
    "plt.figure(figsize=(16,9))\n",
    "bar = sns.distplot(dataset['Item_Outlet_Sales'])\n",
    "bar.legend([\"Skewness: {:.2f}\".format(dataset['Item_Outlet_Sales'].skew())])\n",
    "plt.show()"
   ]
  },
  {
   "cell_type": "markdown",
   "metadata": {
    "papermill": {
     "duration": 0.10054,
     "end_time": "2021-08-17T05:58:44.970171",
     "exception": false,
     "start_time": "2021-08-17T05:58:44.869631",
     "status": "completed"
    },
    "tags": []
   },
   "source": [
    "## Correlation matrix"
   ]
  },
  {
   "cell_type": "code",
   "execution_count": 49,
   "metadata": {
    "execution": {
     "iopub.execute_input": "2021-08-17T05:58:45.176978Z",
     "iopub.status.busy": "2021-08-17T05:58:45.176134Z",
     "iopub.status.idle": "2021-08-17T05:58:45.180475Z",
     "shell.execute_reply": "2021-08-17T05:58:45.179908Z",
     "shell.execute_reply.started": "2021-08-07T07:47:05.626635Z"
    },
    "papermill": {
     "duration": 0.108049,
     "end_time": "2021-08-17T05:58:45.180631",
     "exception": false,
     "start_time": "2021-08-17T05:58:45.072582",
     "status": "completed"
    },
    "tags": []
   },
   "outputs": [],
   "source": [
    "dataset_2 = dataset.drop(columns='Item_Outlet_Sales')"
   ]
  },
  {
   "cell_type": "code",
   "execution_count": 50,
   "metadata": {
    "execution": {
     "iopub.execute_input": "2021-08-17T05:58:45.385971Z",
     "iopub.status.busy": "2021-08-17T05:58:45.385388Z",
     "iopub.status.idle": "2021-08-17T05:58:45.388536Z",
     "shell.execute_reply": "2021-08-17T05:58:45.388081Z",
     "shell.execute_reply.started": "2021-08-07T07:47:12.152654Z"
    },
    "papermill": {
     "duration": 0.106729,
     "end_time": "2021-08-17T05:58:45.388687",
     "exception": false,
     "start_time": "2021-08-17T05:58:45.281958",
     "status": "completed"
    },
    "tags": []
   },
   "outputs": [
    {
     "data": {
      "text/plain": [
       "(8523, 11)"
      ]
     },
     "execution_count": 50,
     "metadata": {},
     "output_type": "execute_result"
    }
   ],
   "source": [
    "dataset_2.shape"
   ]
  },
  {
   "cell_type": "code",
   "execution_count": 51,
   "metadata": {
    "execution": {
     "iopub.execute_input": "2021-08-17T05:58:45.591139Z",
     "iopub.status.busy": "2021-08-17T05:58:45.590490Z",
     "iopub.status.idle": "2021-08-17T05:58:45.826484Z",
     "shell.execute_reply": "2021-08-17T05:58:45.826940Z",
     "shell.execute_reply.started": "2021-08-07T07:47:20.656225Z"
    },
    "papermill": {
     "duration": 0.33923,
     "end_time": "2021-08-17T05:58:45.827111",
     "exception": false,
     "start_time": "2021-08-17T05:58:45.487881",
     "status": "completed"
    },
    "tags": []
   },
   "outputs": [
    {
     "data": {
      "text/plain": [
       "<AxesSubplot:title={'center':'Correlated with SalePrice'}>"
      ]
     },
     "execution_count": 51,
     "metadata": {},
     "output_type": "execute_result"
    },
    {
     "data": {
      "image/png": "[encoded data removed]",
      "text/plain": [
       "<Figure size 1152x648 with 1 Axes>"
      ]
     },
     "metadata": {},
     "output_type": "display_data"
    }
   ],
   "source": [
    "dataset_2.corrwith(dataset['Item_Outlet_Sales']).plot.bar(\n",
    "    figsize=(16,9), title='Correlated with SalePrice', grid=True\n",
    ")"
   ]
  },
  {
   "cell_type": "code",
   "execution_count": 52,
   "metadata": {
    "execution": {
     "iopub.execute_input": "2021-08-17T05:58:46.043059Z",
     "iopub.status.busy": "2021-08-17T05:58:46.042462Z",
     "iopub.status.idle": "2021-08-17T05:58:46.481009Z",
     "shell.execute_reply": "2021-08-17T05:58:46.480412Z",
     "shell.execute_reply.started": "2021-08-07T07:47:41.014937Z"
    },
    "papermill": {
     "duration": 0.546391,
     "end_time": "2021-08-17T05:58:46.481143",
     "exception": false,
     "start_time": "2021-08-17T05:58:45.934752",
     "status": "completed"
    },
    "tags": []
   },
   "outputs": [
    {
     "data": {
      "image/png": "[encoded data removed]",
      "text/plain": [
       "<Figure size 648x648 with 2 Axes>"
      ]
     },
     "metadata": {},
     "output_type": "display_data"
    }
   ],
   "source": [
    "# heatmap\n",
    "plt.figure(figsize=(9, 9))\n",
    "ax = sns.heatmap(data=dataset.corr(), cmap='coolwarm', annot=True, linewidths=2)"
   ]
  },
  {
   "cell_type": "markdown",
   "metadata": {
    "papermill": {
     "duration": 0.102168,
     "end_time": "2021-08-17T05:58:46.685362",
     "exception": false,
     "start_time": "2021-08-17T05:58:46.583194",
     "status": "completed"
    },
    "tags": []
   },
   "source": [
    "# Part 3) Feature Enginering"
   ]
  },
  {
   "cell_type": "markdown",
   "metadata": {
    "papermill": {
     "duration": 0.101883,
     "end_time": "2021-08-17T05:58:46.890380",
     "exception": false,
     "start_time": "2021-08-17T05:58:46.788497",
     "status": "completed"
    },
    "tags": []
   },
   "source": [
    "## Label Encoding"
   ]
  },
  {
   "cell_type": "code",
   "execution_count": 53,
   "metadata": {
    "execution": {
     "iopub.execute_input": "2021-08-17T05:58:47.104612Z",
     "iopub.status.busy": "2021-08-17T05:58:47.103874Z",
     "iopub.status.idle": "2021-08-17T05:58:47.107509Z",
     "shell.execute_reply": "2021-08-17T05:58:47.107027Z",
     "shell.execute_reply.started": "2021-08-07T07:49:37.819355Z"
    },
    "papermill": {
     "duration": 0.115469,
     "end_time": "2021-08-17T05:58:47.107640",
     "exception": false,
     "start_time": "2021-08-17T05:58:46.992171",
     "status": "completed"
    },
    "tags": []
   },
   "outputs": [],
   "source": [
    "#feature engineering\n",
    "from sklearn.preprocessing import LabelEncoder\n",
    "le = LabelEncoder()\n",
    "var_mod = ['Outlet_Identifier','Item_Type']\n",
    "\n",
    "for i in var_mod:\n",
    "    dataset[i] = le.fit_transform(dataset[i])\n",
    "    "
   ]
  },
  {
   "cell_type": "code",
   "execution_count": 54,
   "metadata": {
    "execution": {
     "iopub.execute_input": "2021-08-17T05:58:47.327564Z",
     "iopub.status.busy": "2021-08-17T05:58:47.317024Z",
     "iopub.status.idle": "2021-08-17T05:58:47.331695Z",
     "shell.execute_reply": "2021-08-17T05:58:47.331211Z",
     "shell.execute_reply.started": "2021-08-07T07:50:01.696866Z"
    },
    "papermill": {
     "duration": 0.122271,
     "end_time": "2021-08-17T05:58:47.331825",
     "exception": false,
     "start_time": "2021-08-17T05:58:47.209554",
     "status": "completed"
    },
    "tags": []
   },
   "outputs": [
    {
     "data": {
      "text/html": [
       "<div>\n",
       "<style scoped>\n",
       "    .dataframe tbody tr th:only-of-type {\n",
       "        vertical-align: middle;\n",
       "    }\n",
       "\n",
       "    .dataframe tbody tr th {\n",
       "        vertical-align: top;\n",
       "    }\n",
       "\n",
       "    .dataframe thead th {\n",
       "        text-align: right;\n",
       "    }\n",
       "</style>\n",
       "<table border=\"1\" class=\"dataframe\">\n",
       "  <thead>\n",
       "    <tr style=\"text-align: right;\">\n",
       "      <th></th>\n",
       "      <th>Item_Identifier</th>\n",
       "      <th>Item_Weight</th>\n",
       "      <th>Item_Fat_Content</th>\n",
       "      <th>Item_Visibility</th>\n",
       "      <th>Item_Type</th>\n",
       "      <th>Item_MRP</th>\n",
       "      <th>Outlet_Identifier</th>\n",
       "      <th>Outlet_Size</th>\n",
       "      <th>Outlet_Location_Type</th>\n",
       "      <th>Outlet_Type</th>\n",
       "      <th>Item_Outlet_Sales</th>\n",
       "      <th>Years_Established</th>\n",
       "    </tr>\n",
       "  </thead>\n",
       "  <tbody>\n",
       "    <tr>\n",
       "      <th>0</th>\n",
       "      <td>FDA15</td>\n",
       "      <td>9.30</td>\n",
       "      <td>Low Fat</td>\n",
       "      <td>0.016047</td>\n",
       "      <td>4</td>\n",
       "      <td>249.8092</td>\n",
       "      <td>9</td>\n",
       "      <td>Medium</td>\n",
       "      <td>Tier 1</td>\n",
       "      <td>Supermarket Type1</td>\n",
       "      <td>3735.1380</td>\n",
       "      <td>22</td>\n",
       "    </tr>\n",
       "    <tr>\n",
       "      <th>1</th>\n",
       "      <td>DRC01</td>\n",
       "      <td>5.92</td>\n",
       "      <td>Regular</td>\n",
       "      <td>0.019278</td>\n",
       "      <td>14</td>\n",
       "      <td>48.2692</td>\n",
       "      <td>3</td>\n",
       "      <td>Medium</td>\n",
       "      <td>Tier 3</td>\n",
       "      <td>Supermarket Type2</td>\n",
       "      <td>443.4228</td>\n",
       "      <td>12</td>\n",
       "    </tr>\n",
       "    <tr>\n",
       "      <th>2</th>\n",
       "      <td>FDN15</td>\n",
       "      <td>17.50</td>\n",
       "      <td>Low Fat</td>\n",
       "      <td>0.016760</td>\n",
       "      <td>10</td>\n",
       "      <td>141.6180</td>\n",
       "      <td>9</td>\n",
       "      <td>Medium</td>\n",
       "      <td>Tier 1</td>\n",
       "      <td>Supermarket Type1</td>\n",
       "      <td>2097.2700</td>\n",
       "      <td>22</td>\n",
       "    </tr>\n",
       "    <tr>\n",
       "      <th>3</th>\n",
       "      <td>FDX07</td>\n",
       "      <td>19.20</td>\n",
       "      <td>Regular</td>\n",
       "      <td>0.000000</td>\n",
       "      <td>6</td>\n",
       "      <td>182.0950</td>\n",
       "      <td>0</td>\n",
       "      <td>Medium</td>\n",
       "      <td>Tier 3</td>\n",
       "      <td>Grocery Store</td>\n",
       "      <td>732.3800</td>\n",
       "      <td>23</td>\n",
       "    </tr>\n",
       "    <tr>\n",
       "      <th>4</th>\n",
       "      <td>NCD19</td>\n",
       "      <td>8.93</td>\n",
       "      <td>Low Fat</td>\n",
       "      <td>0.000000</td>\n",
       "      <td>9</td>\n",
       "      <td>53.8614</td>\n",
       "      <td>1</td>\n",
       "      <td>High</td>\n",
       "      <td>Tier 3</td>\n",
       "      <td>Supermarket Type1</td>\n",
       "      <td>994.7052</td>\n",
       "      <td>34</td>\n",
       "    </tr>\n",
       "  </tbody>\n",
       "</table>\n",
       "</div>"
      ],
      "text/plain": [
       "  Item_Identifier  Item_Weight Item_Fat_Content  Item_Visibility  Item_Type  \\\n",
       "0           FDA15         9.30          Low Fat         0.016047          4   \n",
       "1           DRC01         5.92          Regular         0.019278         14   \n",
       "2           FDN15        17.50          Low Fat         0.016760         10   \n",
       "3           FDX07        19.20          Regular         0.000000          6   \n",
       "4           NCD19         8.93          Low Fat         0.000000          9   \n",
       "\n",
       "   Item_MRP  Outlet_Identifier Outlet_Size Outlet_Location_Type  \\\n",
       "0  249.8092                  9      Medium               Tier 1   \n",
       "1   48.2692                  3      Medium               Tier 3   \n",
       "2  141.6180                  9      Medium               Tier 1   \n",
       "3  182.0950                  0      Medium               Tier 3   \n",
       "4   53.8614                  1        High               Tier 3   \n",
       "\n",
       "         Outlet_Type  Item_Outlet_Sales  Years_Established  \n",
       "0  Supermarket Type1          3735.1380                 22  \n",
       "1  Supermarket Type2           443.4228                 12  \n",
       "2  Supermarket Type1          2097.2700                 22  \n",
       "3      Grocery Store           732.3800                 23  \n",
       "4  Supermarket Type1           994.7052                 34  "
      ]
     },
     "execution_count": 54,
     "metadata": {},
     "output_type": "execute_result"
    }
   ],
   "source": [
    "dataset.head()"
   ]
  },
  {
   "cell_type": "markdown",
   "metadata": {
    "papermill": {
     "duration": 0.101537,
     "end_time": "2021-08-17T05:58:47.534990",
     "exception": false,
     "start_time": "2021-08-17T05:58:47.433453",
     "status": "completed"
    },
    "tags": []
   },
   "source": [
    "## One Hot Encoding"
   ]
  },
  {
   "cell_type": "code",
   "execution_count": 55,
   "metadata": {
    "execution": {
     "iopub.execute_input": "2021-08-17T05:58:47.755146Z",
     "iopub.status.busy": "2021-08-17T05:58:47.743194Z",
     "iopub.status.idle": "2021-08-17T05:58:47.758399Z",
     "shell.execute_reply": "2021-08-17T05:58:47.757835Z",
     "shell.execute_reply.started": "2021-08-07T07:50:45.813938Z"
    },
    "papermill": {
     "duration": 0.121391,
     "end_time": "2021-08-17T05:58:47.758529",
     "exception": false,
     "start_time": "2021-08-17T05:58:47.637138",
     "status": "completed"
    },
    "tags": []
   },
   "outputs": [
    {
     "data": {
      "text/html": [
       "<div>\n",
       "<style scoped>\n",
       "    .dataframe tbody tr th:only-of-type {\n",
       "        vertical-align: middle;\n",
       "    }\n",
       "\n",
       "    .dataframe tbody tr th {\n",
       "        vertical-align: top;\n",
       "    }\n",
       "\n",
       "    .dataframe thead th {\n",
       "        text-align: right;\n",
       "    }\n",
       "</style>\n",
       "<table border=\"1\" class=\"dataframe\">\n",
       "  <thead>\n",
       "    <tr style=\"text-align: right;\">\n",
       "      <th></th>\n",
       "      <th>Item_Weight</th>\n",
       "      <th>Item_Fat_Content</th>\n",
       "      <th>Item_Visibility</th>\n",
       "      <th>Item_Type</th>\n",
       "      <th>Item_MRP</th>\n",
       "      <th>Outlet_Identifier</th>\n",
       "      <th>Outlet_Size</th>\n",
       "      <th>Outlet_Location_Type</th>\n",
       "      <th>Outlet_Type</th>\n",
       "      <th>Item_Outlet_Sales</th>\n",
       "      <th>Years_Established</th>\n",
       "    </tr>\n",
       "  </thead>\n",
       "  <tbody>\n",
       "    <tr>\n",
       "      <th>0</th>\n",
       "      <td>9.30</td>\n",
       "      <td>Low Fat</td>\n",
       "      <td>0.016047</td>\n",
       "      <td>4</td>\n",
       "      <td>249.8092</td>\n",
       "      <td>9</td>\n",
       "      <td>Medium</td>\n",
       "      <td>Tier 1</td>\n",
       "      <td>Supermarket Type1</td>\n",
       "      <td>3735.1380</td>\n",
       "      <td>22</td>\n",
       "    </tr>\n",
       "    <tr>\n",
       "      <th>1</th>\n",
       "      <td>5.92</td>\n",
       "      <td>Regular</td>\n",
       "      <td>0.019278</td>\n",
       "      <td>14</td>\n",
       "      <td>48.2692</td>\n",
       "      <td>3</td>\n",
       "      <td>Medium</td>\n",
       "      <td>Tier 3</td>\n",
       "      <td>Supermarket Type2</td>\n",
       "      <td>443.4228</td>\n",
       "      <td>12</td>\n",
       "    </tr>\n",
       "    <tr>\n",
       "      <th>2</th>\n",
       "      <td>17.50</td>\n",
       "      <td>Low Fat</td>\n",
       "      <td>0.016760</td>\n",
       "      <td>10</td>\n",
       "      <td>141.6180</td>\n",
       "      <td>9</td>\n",
       "      <td>Medium</td>\n",
       "      <td>Tier 1</td>\n",
       "      <td>Supermarket Type1</td>\n",
       "      <td>2097.2700</td>\n",
       "      <td>22</td>\n",
       "    </tr>\n",
       "    <tr>\n",
       "      <th>3</th>\n",
       "      <td>19.20</td>\n",
       "      <td>Regular</td>\n",
       "      <td>0.000000</td>\n",
       "      <td>6</td>\n",
       "      <td>182.0950</td>\n",
       "      <td>0</td>\n",
       "      <td>Medium</td>\n",
       "      <td>Tier 3</td>\n",
       "      <td>Grocery Store</td>\n",
       "      <td>732.3800</td>\n",
       "      <td>23</td>\n",
       "    </tr>\n",
       "    <tr>\n",
       "      <th>4</th>\n",
       "      <td>8.93</td>\n",
       "      <td>Low Fat</td>\n",
       "      <td>0.000000</td>\n",
       "      <td>9</td>\n",
       "      <td>53.8614</td>\n",
       "      <td>1</td>\n",
       "      <td>High</td>\n",
       "      <td>Tier 3</td>\n",
       "      <td>Supermarket Type1</td>\n",
       "      <td>994.7052</td>\n",
       "      <td>34</td>\n",
       "    </tr>\n",
       "  </tbody>\n",
       "</table>\n",
       "</div>"
      ],
      "text/plain": [
       "   Item_Weight Item_Fat_Content  Item_Visibility  Item_Type  Item_MRP  \\\n",
       "0         9.30          Low Fat         0.016047          4  249.8092   \n",
       "1         5.92          Regular         0.019278         14   48.2692   \n",
       "2        17.50          Low Fat         0.016760         10  141.6180   \n",
       "3        19.20          Regular         0.000000          6  182.0950   \n",
       "4         8.93          Low Fat         0.000000          9   53.8614   \n",
       "\n",
       "   Outlet_Identifier Outlet_Size Outlet_Location_Type        Outlet_Type  \\\n",
       "0                  9      Medium               Tier 1  Supermarket Type1   \n",
       "1                  3      Medium               Tier 3  Supermarket Type2   \n",
       "2                  9      Medium               Tier 1  Supermarket Type1   \n",
       "3                  0      Medium               Tier 3      Grocery Store   \n",
       "4                  1        High               Tier 3  Supermarket Type1   \n",
       "\n",
       "   Item_Outlet_Sales  Years_Established  \n",
       "0          3735.1380                 22  \n",
       "1           443.4228                 12  \n",
       "2          2097.2700                 22  \n",
       "3           732.3800                 23  \n",
       "4           994.7052                 34  "
      ]
     },
     "execution_count": 55,
     "metadata": {},
     "output_type": "execute_result"
    }
   ],
   "source": [
    "dataset = dataset.drop(columns=['Item_Identifier'])\n",
    "dataset.head()"
   ]
  },
  {
   "cell_type": "code",
   "execution_count": 56,
   "metadata": {
    "execution": {
     "iopub.execute_input": "2021-08-17T05:58:47.971406Z",
     "iopub.status.busy": "2021-08-17T05:58:47.970500Z",
     "iopub.status.idle": "2021-08-17T05:58:47.973531Z",
     "shell.execute_reply": "2021-08-17T05:58:47.972994Z",
     "shell.execute_reply.started": "2021-08-07T07:50:54.150837Z"
    },
    "papermill": {
     "duration": 0.111938,
     "end_time": "2021-08-17T05:58:47.973656",
     "exception": false,
     "start_time": "2021-08-17T05:58:47.861718",
     "status": "completed"
    },
    "tags": []
   },
   "outputs": [],
   "source": [
    "#feature engineering\n",
    "from sklearn.preprocessing import OneHotEncoder"
   ]
  },
  {
   "cell_type": "code",
   "execution_count": 57,
   "metadata": {
    "execution": {
     "iopub.execute_input": "2021-08-17T05:58:48.230116Z",
     "iopub.status.busy": "2021-08-17T05:58:48.228043Z",
     "iopub.status.idle": "2021-08-17T05:58:48.242954Z",
     "shell.execute_reply": "2021-08-17T05:58:48.242503Z",
     "shell.execute_reply.started": "2021-08-07T07:51:07.399674Z"
    },
    "papermill": {
     "duration": 0.164909,
     "end_time": "2021-08-17T05:58:48.243086",
     "exception": false,
     "start_time": "2021-08-17T05:58:48.078177",
     "status": "completed"
    },
    "tags": []
   },
   "outputs": [
    {
     "data": {
      "text/plain": [
       "(8523, 15)"
      ]
     },
     "execution_count": 57,
     "metadata": {},
     "output_type": "execute_result"
    }
   ],
   "source": [
    "dataset = pd.get_dummies(data=dataset, drop_first=True)\n",
    "dataset.shape"
   ]
  },
  {
   "cell_type": "code",
   "execution_count": 58,
   "metadata": {
    "execution": {
     "iopub.execute_input": "2021-08-17T05:58:48.463761Z",
     "iopub.status.busy": "2021-08-17T05:58:48.462956Z",
     "iopub.status.idle": "2021-08-17T05:58:48.466361Z",
     "shell.execute_reply": "2021-08-17T05:58:48.466766Z",
     "shell.execute_reply.started": "2021-08-07T07:51:16.553925Z"
    },
    "papermill": {
     "duration": 0.120953,
     "end_time": "2021-08-17T05:58:48.466941",
     "exception": false,
     "start_time": "2021-08-17T05:58:48.345988",
     "status": "completed"
    },
    "tags": []
   },
   "outputs": [
    {
     "data": {
      "text/html": [
       "<div>\n",
       "<style scoped>\n",
       "    .dataframe tbody tr th:only-of-type {\n",
       "        vertical-align: middle;\n",
       "    }\n",
       "\n",
       "    .dataframe tbody tr th {\n",
       "        vertical-align: top;\n",
       "    }\n",
       "\n",
       "    .dataframe thead th {\n",
       "        text-align: right;\n",
       "    }\n",
       "</style>\n",
       "<table border=\"1\" class=\"dataframe\">\n",
       "  <thead>\n",
       "    <tr style=\"text-align: right;\">\n",
       "      <th></th>\n",
       "      <th>Item_Weight</th>\n",
       "      <th>Item_Visibility</th>\n",
       "      <th>Item_Type</th>\n",
       "      <th>Item_MRP</th>\n",
       "      <th>Outlet_Identifier</th>\n",
       "      <th>Item_Outlet_Sales</th>\n",
       "      <th>Years_Established</th>\n",
       "      <th>Item_Fat_Content_Regular</th>\n",
       "      <th>Outlet_Size_Medium</th>\n",
       "      <th>Outlet_Size_Small</th>\n",
       "      <th>Outlet_Location_Type_Tier 2</th>\n",
       "      <th>Outlet_Location_Type_Tier 3</th>\n",
       "      <th>Outlet_Type_Supermarket Type1</th>\n",
       "      <th>Outlet_Type_Supermarket Type2</th>\n",
       "      <th>Outlet_Type_Supermarket Type3</th>\n",
       "    </tr>\n",
       "  </thead>\n",
       "  <tbody>\n",
       "    <tr>\n",
       "      <th>0</th>\n",
       "      <td>9.30</td>\n",
       "      <td>0.016047</td>\n",
       "      <td>4</td>\n",
       "      <td>249.8092</td>\n",
       "      <td>9</td>\n",
       "      <td>3735.1380</td>\n",
       "      <td>22</td>\n",
       "      <td>0</td>\n",
       "      <td>1</td>\n",
       "      <td>0</td>\n",
       "      <td>0</td>\n",
       "      <td>0</td>\n",
       "      <td>1</td>\n",
       "      <td>0</td>\n",
       "      <td>0</td>\n",
       "    </tr>\n",
       "    <tr>\n",
       "      <th>1</th>\n",
       "      <td>5.92</td>\n",
       "      <td>0.019278</td>\n",
       "      <td>14</td>\n",
       "      <td>48.2692</td>\n",
       "      <td>3</td>\n",
       "      <td>443.4228</td>\n",
       "      <td>12</td>\n",
       "      <td>1</td>\n",
       "      <td>1</td>\n",
       "      <td>0</td>\n",
       "      <td>0</td>\n",
       "      <td>1</td>\n",
       "      <td>0</td>\n",
       "      <td>1</td>\n",
       "      <td>0</td>\n",
       "    </tr>\n",
       "    <tr>\n",
       "      <th>2</th>\n",
       "      <td>17.50</td>\n",
       "      <td>0.016760</td>\n",
       "      <td>10</td>\n",
       "      <td>141.6180</td>\n",
       "      <td>9</td>\n",
       "      <td>2097.2700</td>\n",
       "      <td>22</td>\n",
       "      <td>0</td>\n",
       "      <td>1</td>\n",
       "      <td>0</td>\n",
       "      <td>0</td>\n",
       "      <td>0</td>\n",
       "      <td>1</td>\n",
       "      <td>0</td>\n",
       "      <td>0</td>\n",
       "    </tr>\n",
       "    <tr>\n",
       "      <th>3</th>\n",
       "      <td>19.20</td>\n",
       "      <td>0.000000</td>\n",
       "      <td>6</td>\n",
       "      <td>182.0950</td>\n",
       "      <td>0</td>\n",
       "      <td>732.3800</td>\n",
       "      <td>23</td>\n",
       "      <td>1</td>\n",
       "      <td>1</td>\n",
       "      <td>0</td>\n",
       "      <td>0</td>\n",
       "      <td>1</td>\n",
       "      <td>0</td>\n",
       "      <td>0</td>\n",
       "      <td>0</td>\n",
       "    </tr>\n",
       "    <tr>\n",
       "      <th>4</th>\n",
       "      <td>8.93</td>\n",
       "      <td>0.000000</td>\n",
       "      <td>9</td>\n",
       "      <td>53.8614</td>\n",
       "      <td>1</td>\n",
       "      <td>994.7052</td>\n",
       "      <td>34</td>\n",
       "      <td>0</td>\n",
       "      <td>0</td>\n",
       "      <td>0</td>\n",
       "      <td>0</td>\n",
       "      <td>1</td>\n",
       "      <td>1</td>\n",
       "      <td>0</td>\n",
       "      <td>0</td>\n",
       "    </tr>\n",
       "  </tbody>\n",
       "</table>\n",
       "</div>"
      ],
      "text/plain": [
       "   Item_Weight  Item_Visibility  Item_Type  Item_MRP  Outlet_Identifier  \\\n",
       "0         9.30         0.016047          4  249.8092                  9   \n",
       "1         5.92         0.019278         14   48.2692                  3   \n",
       "2        17.50         0.016760         10  141.6180                  9   \n",
       "3        19.20         0.000000          6  182.0950                  0   \n",
       "4         8.93         0.000000          9   53.8614                  1   \n",
       "\n",
       "   Item_Outlet_Sales  Years_Established  Item_Fat_Content_Regular  \\\n",
       "0          3735.1380                 22                         0   \n",
       "1           443.4228                 12                         1   \n",
       "2          2097.2700                 22                         0   \n",
       "3           732.3800                 23                         1   \n",
       "4           994.7052                 34                         0   \n",
       "\n",
       "   Outlet_Size_Medium  Outlet_Size_Small  Outlet_Location_Type_Tier 2  \\\n",
       "0                   1                  0                            0   \n",
       "1                   1                  0                            0   \n",
       "2                   1                  0                            0   \n",
       "3                   1                  0                            0   \n",
       "4                   0                  0                            0   \n",
       "\n",
       "   Outlet_Location_Type_Tier 3  Outlet_Type_Supermarket Type1  \\\n",
       "0                            0                              1   \n",
       "1                            1                              0   \n",
       "2                            0                              1   \n",
       "3                            1                              0   \n",
       "4                            1                              1   \n",
       "\n",
       "   Outlet_Type_Supermarket Type2  Outlet_Type_Supermarket Type3  \n",
       "0                              0                              0  \n",
       "1                              1                              0  \n",
       "2                              0                              0  \n",
       "3                              0                              0  \n",
       "4                              0                              0  "
      ]
     },
     "execution_count": 58,
     "metadata": {},
     "output_type": "execute_result"
    }
   ],
   "source": [
    "dataset.head()"
   ]
  },
  {
   "cell_type": "markdown",
   "metadata": {
    "papermill": {
     "duration": 0.102661,
     "end_time": "2021-08-17T05:58:48.672419",
     "exception": false,
     "start_time": "2021-08-17T05:58:48.569758",
     "status": "completed"
    },
    "tags": []
   },
   "source": [
    "## Removing Skewness"
   ]
  },
  {
   "cell_type": "markdown",
   "metadata": {
    "papermill": {
     "duration": 0.102947,
     "end_time": "2021-08-17T05:58:48.878331",
     "exception": false,
     "start_time": "2021-08-17T05:58:48.775384",
     "status": "completed"
    },
    "tags": []
   },
   "source": [
    "Skewness in variables is undesirable for predictive modeling. Some machine learning methods assume normally distributed data and a skewed variable can be transformed by taking its log, square root, or cube root so as to make its distribution as close to normal distribution as possible. In our data, variables Item_Visibility is highly skewed. So, we will treat skewness with the help of log transformation."
   ]
  },
  {
   "cell_type": "code",
   "execution_count": 59,
   "metadata": {
    "execution": {
     "iopub.execute_input": "2021-08-17T05:58:49.091593Z",
     "iopub.status.busy": "2021-08-17T05:58:49.091028Z",
     "iopub.status.idle": "2021-08-17T05:58:49.093364Z",
     "shell.execute_reply": "2021-08-17T05:58:49.093818Z",
     "shell.execute_reply.started": "2021-08-07T07:52:24.615368Z"
    },
    "papermill": {
     "duration": 0.111546,
     "end_time": "2021-08-17T05:58:49.093979",
     "exception": false,
     "start_time": "2021-08-17T05:58:48.982433",
     "status": "completed"
    },
    "tags": []
   },
   "outputs": [],
   "source": [
    "#dataset['Item_Visibility'] = np.log(dataset['Item_Visibility'])"
   ]
  },
  {
   "cell_type": "code",
   "execution_count": 60,
   "metadata": {
    "execution": {
     "iopub.execute_input": "2021-08-17T05:58:49.304833Z",
     "iopub.status.busy": "2021-08-17T05:58:49.304225Z",
     "iopub.status.idle": "2021-08-17T05:58:49.306961Z",
     "shell.execute_reply": "2021-08-17T05:58:49.307385Z",
     "shell.execute_reply.started": "2021-08-07T07:52:33.026809Z"
    },
    "papermill": {
     "duration": 0.109974,
     "end_time": "2021-08-17T05:58:49.307541",
     "exception": false,
     "start_time": "2021-08-17T05:58:49.197567",
     "status": "completed"
    },
    "tags": []
   },
   "outputs": [],
   "source": [
    "#dataset.head()"
   ]
  },
  {
   "cell_type": "markdown",
   "metadata": {
    "papermill": {
     "duration": 0.102671,
     "end_time": "2021-08-17T05:58:49.514420",
     "exception": false,
     "start_time": "2021-08-17T05:58:49.411749",
     "status": "completed"
    },
    "tags": []
   },
   "source": [
    "*Skewness not taken into account as it was hindering the performance*"
   ]
  },
  {
   "cell_type": "markdown",
   "metadata": {
    "papermill": {
     "duration": 0.102255,
     "end_time": "2021-08-17T05:58:49.719300",
     "exception": false,
     "start_time": "2021-08-17T05:58:49.617045",
     "status": "completed"
    },
    "tags": []
   },
   "source": [
    "## Splitting the dataset"
   ]
  },
  {
   "cell_type": "code",
   "execution_count": 61,
   "metadata": {
    "execution": {
     "iopub.execute_input": "2021-08-17T05:58:49.927684Z",
     "iopub.status.busy": "2021-08-17T05:58:49.927074Z",
     "iopub.status.idle": "2021-08-17T05:58:49.932570Z",
     "shell.execute_reply": "2021-08-17T05:58:49.933007Z",
     "shell.execute_reply.started": "2021-08-07T07:52:58.103744Z"
    },
    "papermill": {
     "duration": 0.111131,
     "end_time": "2021-08-17T05:58:49.933167",
     "exception": false,
     "start_time": "2021-08-17T05:58:49.822036",
     "status": "completed"
    },
    "tags": []
   },
   "outputs": [],
   "source": [
    "# independ variables / matrix of features\n",
    "x = dataset.drop(columns='Item_Outlet_Sales')"
   ]
  },
  {
   "cell_type": "code",
   "execution_count": 62,
   "metadata": {
    "execution": {
     "iopub.execute_input": "2021-08-17T05:58:50.160276Z",
     "iopub.status.busy": "2021-08-17T05:58:50.159399Z",
     "iopub.status.idle": "2021-08-17T05:58:50.163877Z",
     "shell.execute_reply": "2021-08-17T05:58:50.164393Z",
     "shell.execute_reply.started": "2021-08-07T07:53:06.726086Z"
    },
    "papermill": {
     "duration": 0.127575,
     "end_time": "2021-08-17T05:58:50.164549",
     "exception": false,
     "start_time": "2021-08-17T05:58:50.036974",
     "status": "completed"
    },
    "tags": []
   },
   "outputs": [],
   "source": [
    "# target variable / dependent variable\n",
    "y = dataset['Item_Outlet_Sales']"
   ]
  },
  {
   "cell_type": "code",
   "execution_count": 63,
   "metadata": {
    "execution": {
     "iopub.execute_input": "2021-08-17T05:58:50.413407Z",
     "iopub.status.busy": "2021-08-17T05:58:50.412485Z",
     "iopub.status.idle": "2021-08-17T05:58:50.416121Z",
     "shell.execute_reply": "2021-08-17T05:58:50.416619Z",
     "shell.execute_reply.started": "2021-08-07T07:53:16.686437Z"
    },
    "papermill": {
     "duration": 0.135516,
     "end_time": "2021-08-17T05:58:50.416815",
     "exception": false,
     "start_time": "2021-08-17T05:58:50.281299",
     "status": "completed"
    },
    "tags": []
   },
   "outputs": [],
   "source": [
    "from sklearn.model_selection import train_test_split"
   ]
  },
  {
   "cell_type": "code",
   "execution_count": 64,
   "metadata": {
    "execution": {
     "iopub.execute_input": "2021-08-17T05:58:50.627383Z",
     "iopub.status.busy": "2021-08-17T05:58:50.626462Z",
     "iopub.status.idle": "2021-08-17T05:58:50.633635Z",
     "shell.execute_reply": "2021-08-17T05:58:50.634167Z",
     "shell.execute_reply.started": "2021-08-07T07:53:26.566683Z"
    },
    "papermill": {
     "duration": 0.114091,
     "end_time": "2021-08-17T05:58:50.634329",
     "exception": false,
     "start_time": "2021-08-17T05:58:50.520238",
     "status": "completed"
    },
    "tags": []
   },
   "outputs": [],
   "source": [
    "x_train, x_test, y_train, y_test = train_test_split(x, y, test_size=0.2, random_state=0)"
   ]
  },
  {
   "cell_type": "code",
   "execution_count": 65,
   "metadata": {
    "execution": {
     "iopub.execute_input": "2021-08-17T05:58:50.848553Z",
     "iopub.status.busy": "2021-08-17T05:58:50.847636Z",
     "iopub.status.idle": "2021-08-17T05:58:50.853148Z",
     "shell.execute_reply": "2021-08-17T05:58:50.853636Z",
     "shell.execute_reply.started": "2021-08-07T07:53:34.104264Z"
    },
    "papermill": {
     "duration": 0.115617,
     "end_time": "2021-08-17T05:58:50.853822",
     "exception": false,
     "start_time": "2021-08-17T05:58:50.738205",
     "status": "completed"
    },
    "tags": []
   },
   "outputs": [
    {
     "data": {
      "text/plain": [
       "(6818, 14)"
      ]
     },
     "execution_count": 65,
     "metadata": {},
     "output_type": "execute_result"
    }
   ],
   "source": [
    "x_train.shape"
   ]
  },
  {
   "cell_type": "code",
   "execution_count": 66,
   "metadata": {
    "execution": {
     "iopub.execute_input": "2021-08-17T05:58:51.067145Z",
     "iopub.status.busy": "2021-08-17T05:58:51.066250Z",
     "iopub.status.idle": "2021-08-17T05:58:51.071911Z",
     "shell.execute_reply": "2021-08-17T05:58:51.072324Z",
     "shell.execute_reply.started": "2021-08-07T07:53:41.271218Z"
    },
    "papermill": {
     "duration": 0.112497,
     "end_time": "2021-08-17T05:58:51.072556",
     "exception": false,
     "start_time": "2021-08-17T05:58:50.960059",
     "status": "completed"
    },
    "tags": []
   },
   "outputs": [
    {
     "data": {
      "text/plain": [
       "(6818,)"
      ]
     },
     "execution_count": 66,
     "metadata": {},
     "output_type": "execute_result"
    }
   ],
   "source": [
    "y_train.shape"
   ]
  },
  {
   "cell_type": "code",
   "execution_count": 67,
   "metadata": {
    "execution": {
     "iopub.execute_input": "2021-08-17T05:58:51.285416Z",
     "iopub.status.busy": "2021-08-17T05:58:51.284562Z",
     "iopub.status.idle": "2021-08-17T05:58:51.288354Z",
     "shell.execute_reply": "2021-08-17T05:58:51.287921Z",
     "shell.execute_reply.started": "2021-08-07T07:53:48.598436Z"
    },
    "papermill": {
     "duration": 0.112044,
     "end_time": "2021-08-17T05:58:51.288503",
     "exception": false,
     "start_time": "2021-08-17T05:58:51.176459",
     "status": "completed"
    },
    "tags": []
   },
   "outputs": [
    {
     "data": {
      "text/plain": [
       "(1705, 14)"
      ]
     },
     "execution_count": 67,
     "metadata": {},
     "output_type": "execute_result"
    }
   ],
   "source": [
    "x_test.shape"
   ]
  },
  {
   "cell_type": "code",
   "execution_count": 68,
   "metadata": {
    "execution": {
     "iopub.execute_input": "2021-08-17T05:58:51.500620Z",
     "iopub.status.busy": "2021-08-17T05:58:51.499833Z",
     "iopub.status.idle": "2021-08-17T05:58:51.503105Z",
     "shell.execute_reply": "2021-08-17T05:58:51.503518Z",
     "shell.execute_reply.started": "2021-08-07T07:53:55.129894Z"
    },
    "papermill": {
     "duration": 0.111664,
     "end_time": "2021-08-17T05:58:51.503685",
     "exception": false,
     "start_time": "2021-08-17T05:58:51.392021",
     "status": "completed"
    },
    "tags": []
   },
   "outputs": [
    {
     "data": {
      "text/plain": [
       "(1705,)"
      ]
     },
     "execution_count": 68,
     "metadata": {},
     "output_type": "execute_result"
    }
   ],
   "source": [
    "y_test.shape"
   ]
  },
  {
   "cell_type": "markdown",
   "metadata": {
    "papermill": {
     "duration": 0.102891,
     "end_time": "2021-08-17T05:58:51.710190",
     "exception": false,
     "start_time": "2021-08-17T05:58:51.607299",
     "status": "completed"
    },
    "tags": []
   },
   "source": [
    "## Feature scaling"
   ]
  },
  {
   "cell_type": "code",
   "execution_count": 69,
   "metadata": {
    "execution": {
     "iopub.execute_input": "2021-08-17T05:58:51.923368Z",
     "iopub.status.busy": "2021-08-17T05:58:51.922413Z",
     "iopub.status.idle": "2021-08-17T05:58:51.926211Z",
     "shell.execute_reply": "2021-08-17T05:58:51.926722Z",
     "shell.execute_reply.started": "2021-08-07T07:54:21.30857Z"
    },
    "papermill": {
     "duration": 0.110778,
     "end_time": "2021-08-17T05:58:51.926901",
     "exception": false,
     "start_time": "2021-08-17T05:58:51.816123",
     "status": "completed"
    },
    "tags": []
   },
   "outputs": [],
   "source": [
    "features= ['Item_Weight','Item_Fat_Content','Item_Visibility','Item_Type','Item_MRP','Outlet_Size','Outlet_Location_Type','Outlet_Type','Years_Established']"
   ]
  },
  {
   "cell_type": "markdown",
   "metadata": {
    "papermill": {
     "duration": 0.105627,
     "end_time": "2021-08-17T05:58:52.138089",
     "exception": false,
     "start_time": "2021-08-17T05:58:52.032462",
     "status": "completed"
    },
    "tags": []
   },
   "source": [
    "# Part 4: Building the model"
   ]
  },
  {
   "cell_type": "code",
   "execution_count": 70,
   "metadata": {
    "execution": {
     "iopub.execute_input": "2021-08-17T05:58:52.354101Z",
     "iopub.status.busy": "2021-08-17T05:58:52.353495Z",
     "iopub.status.idle": "2021-08-17T05:58:52.357068Z",
     "shell.execute_reply": "2021-08-17T05:58:52.357486Z",
     "shell.execute_reply.started": "2021-08-07T07:54:51.764748Z"
    },
    "papermill": {
     "duration": 0.11299,
     "end_time": "2021-08-17T05:58:52.357652",
     "exception": false,
     "start_time": "2021-08-17T05:58:52.244662",
     "status": "completed"
    },
    "tags": []
   },
   "outputs": [],
   "source": [
    "#metrics\n",
    "from sklearn.metrics import mean_absolute_error as MAE\n",
    "from sklearn.metrics import mean_squared_error as MSE\n",
    "from sklearn.metrics import r2_score as R2\n",
    "from sklearn.model_selection  import cross_val_score as CVS"
   ]
  },
  {
   "cell_type": "code",
   "execution_count": 71,
   "metadata": {
    "execution": {
     "iopub.execute_input": "2021-08-17T05:58:52.568987Z",
     "iopub.status.busy": "2021-08-17T05:58:52.568346Z",
     "iopub.status.idle": "2021-08-17T05:58:52.639339Z",
     "shell.execute_reply": "2021-08-17T05:58:52.639792Z",
     "shell.execute_reply.started": "2021-08-07T07:56:11.00869Z"
    },
    "papermill": {
     "duration": 0.178014,
     "end_time": "2021-08-17T05:58:52.639974",
     "exception": false,
     "start_time": "2021-08-17T05:58:52.461960",
     "status": "completed"
    },
    "tags": []
   },
   "outputs": [],
   "source": [
    "#ML models\n",
    "from sklearn.linear_model import LinearRegression\n",
    "from sklearn.ensemble import RandomForestRegressor\n",
    "from sklearn.linear_model import Lasso\n",
    "from xgboost import XGBRFRegressor\n",
    "from sklearn.linear_model import Ridge"
   ]
  },
  {
   "cell_type": "code",
   "execution_count": 72,
   "metadata": {
    "execution": {
     "iopub.execute_input": "2021-08-17T05:58:52.853184Z",
     "iopub.status.busy": "2021-08-17T05:58:52.852622Z",
     "iopub.status.idle": "2021-08-17T05:58:52.856498Z",
     "shell.execute_reply": "2021-08-17T05:58:52.856901Z",
     "shell.execute_reply.started": "2021-08-07T07:56:19.9802Z"
    },
    "papermill": {
     "duration": 0.112157,
     "end_time": "2021-08-17T05:58:52.857054",
     "exception": false,
     "start_time": "2021-08-17T05:58:52.744897",
     "status": "completed"
    },
    "tags": []
   },
   "outputs": [],
   "source": [
    "def cross_val(model_name,model,x,y,cv):\n",
    "    \n",
    "    scores = CVS(model, x, y, cv=cv)\n",
    "    print(f'{model_name} Scores:')\n",
    "    for i in scores:\n",
    "        print(round(i,2))\n",
    "    print(f'Average {model_name} score: {round(scores.mean(),4)}')"
   ]
  },
  {
   "cell_type": "markdown",
   "metadata": {
    "papermill": {
     "duration": 0.104511,
     "end_time": "2021-08-17T05:58:53.066623",
     "exception": false,
     "start_time": "2021-08-17T05:58:52.962112",
     "status": "completed"
    },
    "tags": []
   },
   "source": [
    "## 1) Multiple Linear Regressor"
   ]
  },
  {
   "cell_type": "code",
   "execution_count": 73,
   "metadata": {
    "execution": {
     "iopub.execute_input": "2021-08-17T05:58:53.281033Z",
     "iopub.status.busy": "2021-08-17T05:58:53.280420Z",
     "iopub.status.idle": "2021-08-17T05:58:53.505878Z",
     "shell.execute_reply": "2021-08-17T05:58:53.506684Z",
     "shell.execute_reply.started": "2021-08-07T07:56:56.918426Z"
    },
    "papermill": {
     "duration": 0.333725,
     "end_time": "2021-08-17T05:58:53.506957",
     "exception": false,
     "start_time": "2021-08-17T05:58:53.173232",
     "status": "completed"
    },
    "tags": []
   },
   "outputs": [
    {
     "name": "stdout",
     "output_type": "stream",
     "text": [
      " Mean Absolute Error: 851.52\n",
      "\n",
      " Mean Squared Error: 1275654.43\n",
      "\n",
      " R^2 Score: 0.5642\n",
      "\n",
      "LinearRegression() Scores:\n",
      "0.57\n",
      "0.56\n",
      "0.55\n",
      "0.57\n",
      "0.57\n",
      "Average LinearRegression() score: 0.5613\n"
     ]
    }
   ],
   "source": [
    "#ML model\n",
    "from sklearn.linear_model import LinearRegression\n",
    "\n",
    "#model\n",
    "regressor_mlr = LinearRegression()\n",
    "\n",
    "#fit\n",
    "regressor_mlr.fit(x_train, y_train)\n",
    "\n",
    "#predict\n",
    "y_pred = regressor_mlr.predict(x_test)\n",
    "\n",
    "#score variables\n",
    "LR_MAE = round(MAE(y_test, y_pred),2)\n",
    "LR_MSE = round(MSE(y_test, y_pred),2)\n",
    "LR_R_2 = round(R2(y_test, y_pred),4)\n",
    "LR_CS  = round(CVS(regressor_mlr, x, y, cv=5).mean(),4)\n",
    "\n",
    "print(f\" Mean Absolute Error: {LR_MAE}\\n\")\n",
    "print(f\" Mean Squared Error: {LR_MSE}\\n\")\n",
    "print(f\" R^2 Score: {LR_R_2}\\n\")\n",
    "cross_val(regressor_mlr,LinearRegression(),x,y,5)"
   ]
  },
  {
   "cell_type": "code",
   "execution_count": 74,
   "metadata": {
    "execution": {
     "iopub.execute_input": "2021-08-17T05:58:53.774684Z",
     "iopub.status.busy": "2021-08-17T05:58:53.774099Z",
     "iopub.status.idle": "2021-08-17T05:58:53.784732Z",
     "shell.execute_reply": "2021-08-17T05:58:53.785207Z",
     "shell.execute_reply.started": "2021-08-07T07:57:51.55673Z"
    },
    "papermill": {
     "duration": 0.121363,
     "end_time": "2021-08-17T05:58:53.785378",
     "exception": false,
     "start_time": "2021-08-17T05:58:53.664015",
     "status": "completed"
    },
    "tags": []
   },
   "outputs": [],
   "source": [
    "Linear_Regression=pd.DataFrame({'y_test':y_test,'prediction':y_pred})\n",
    "Linear_Regression.to_csv(\"Linear Regression.csv\")  "
   ]
  },
  {
   "cell_type": "markdown",
   "metadata": {
    "papermill": {
     "duration": 0.104594,
     "end_time": "2021-08-17T05:58:53.995142",
     "exception": false,
     "start_time": "2021-08-17T05:58:53.890548",
     "status": "completed"
    },
    "tags": []
   },
   "source": [
    "## 2) Random Forest Regressor"
   ]
  },
  {
   "cell_type": "code",
   "execution_count": 75,
   "metadata": {
    "execution": {
     "iopub.execute_input": "2021-08-17T05:58:54.208690Z",
     "iopub.status.busy": "2021-08-17T05:58:54.208103Z",
     "iopub.status.idle": "2021-08-17T05:59:17.811085Z",
     "shell.execute_reply": "2021-08-17T05:59:17.810545Z",
     "shell.execute_reply.started": "2021-08-07T07:58:24.571977Z"
    },
    "papermill": {
     "duration": 23.710816,
     "end_time": "2021-08-17T05:59:17.811226",
     "exception": false,
     "start_time": "2021-08-17T05:58:54.100410",
     "status": "completed"
    },
    "tags": []
   },
   "outputs": [
    {
     "name": "stdout",
     "output_type": "stream",
     "text": [
      " Mean Absolute Error: 780.11\n",
      "\n",
      " Mean Squared Error: 1200066.53\n",
      "\n",
      " R^2 Score: 0.59\n",
      "\n",
      "RandomForestRegressor(max_depth=5, min_samples_leaf=100, n_estimators=200,\n",
      "                      n_jobs=4, random_state=101) Scores:\n",
      "0.57\n",
      "0.54\n",
      "0.52\n",
      "0.56\n",
      "0.57\n",
      "Average RandomForestRegressor(max_depth=5, min_samples_leaf=100, n_estimators=200,\n",
      "                      n_jobs=4, random_state=101) score: 0.5521\n"
     ]
    }
   ],
   "source": [
    "#ML model\n",
    "from sklearn.ensemble import RandomForestRegressor\n",
    "\n",
    "#model\n",
    "regressor_rf = RandomForestRegressor(n_estimators=200,max_depth=5, min_samples_leaf=100,n_jobs=4,random_state=101)\n",
    "\n",
    "#fit\n",
    "regressor_rf.fit(x_train, y_train)\n",
    "\n",
    "#predict\n",
    "y_pred = regressor_rf.predict(x_test)\n",
    "\n",
    "#score variables\n",
    "RFR_MAE = round(MAE(y_test, y_pred),2)\n",
    "RFR_MSE = round(MSE(y_test, y_pred),2)\n",
    "RFR_R_2 = round(R2(y_test, y_pred),4)\n",
    "RFR_CS  = round(CVS(regressor_rf, x, y, cv=5).mean(),4)\n",
    "\n",
    "\n",
    "\n",
    "print(f\" Mean Absolute Error: {RFR_MAE}\\n\")\n",
    "print(f\" Mean Squared Error: {RFR_MSE}\\n\")\n",
    "print(f\" R^2 Score: {RFR_R_2}\\n\")\n",
    "cross_val(regressor_rf,RandomForestRegressor(),x,y,5)"
   ]
  },
  {
   "cell_type": "code",
   "execution_count": 76,
   "metadata": {
    "execution": {
     "iopub.execute_input": "2021-08-17T05:59:18.032355Z",
     "iopub.status.busy": "2021-08-17T05:59:18.027463Z",
     "iopub.status.idle": "2021-08-17T05:59:18.038649Z",
     "shell.execute_reply": "2021-08-17T05:59:18.038090Z",
     "shell.execute_reply.started": "2021-08-07T07:59:23.89409Z"
    },
    "papermill": {
     "duration": 0.122424,
     "end_time": "2021-08-17T05:59:18.038806",
     "exception": false,
     "start_time": "2021-08-17T05:59:17.916382",
     "status": "completed"
    },
    "tags": []
   },
   "outputs": [],
   "source": [
    "Random_Forest_Regressor=pd.DataFrame({'y_test':y_test,'prediction':y_pred})\n",
    "Random_Forest_Regressor.to_csv(\"Random Forest Regressor.csv\")  "
   ]
  },
  {
   "cell_type": "markdown",
   "metadata": {
    "papermill": {
     "duration": 0.104734,
     "end_time": "2021-08-17T05:59:18.251094",
     "exception": false,
     "start_time": "2021-08-17T05:59:18.146360",
     "status": "completed"
    },
    "tags": []
   },
   "source": [
    "## 3) Lasso Regressor"
   ]
  },
  {
   "cell_type": "code",
   "execution_count": 77,
   "metadata": {
    "execution": {
     "iopub.execute_input": "2021-08-17T05:59:18.468862Z",
     "iopub.status.busy": "2021-08-17T05:59:18.468199Z",
     "iopub.status.idle": "2021-08-17T05:59:20.377090Z",
     "shell.execute_reply": "2021-08-17T05:59:20.378299Z",
     "shell.execute_reply.started": "2021-08-07T07:59:54.538969Z"
    },
    "papermill": {
     "duration": 2.022967,
     "end_time": "2021-08-17T05:59:20.378793",
     "exception": false,
     "start_time": "2021-08-17T05:59:18.355826",
     "status": "completed"
    },
    "tags": []
   },
   "outputs": [
    {
     "name": "stdout",
     "output_type": "stream",
     "text": [
      " Mean Absolute Error: 851.31\n",
      "\n",
      " Mean Squared Error: 1275582.84\n",
      "\n",
      " R^2 Score: 0.5642\n",
      "\n",
      "Lasso(alpha=0.05) Scores:\n",
      "0.57\n",
      "0.56\n",
      "0.55\n",
      "0.57\n",
      "0.57\n",
      "Average Lasso(alpha=0.05) score: 0.5613\n"
     ]
    }
   ],
   "source": [
    "#ML model\n",
    "from sklearn.linear_model import Lasso\n",
    "\n",
    "#model\n",
    "regressor_ls = Lasso(alpha = 0.05)\n",
    "#fit\n",
    "regressor_ls.fit(x_train,y_train)\n",
    "\n",
    "#predict\n",
    "y_pred = regressor_ls.predict(x_test)\n",
    "\n",
    "#score variables\n",
    "LS_MAE = round(MAE(y_test, y_pred),2)\n",
    "LS_MSE = round(MSE(y_test, y_pred),2)\n",
    "LS_R_2 = round(R2(y_test, y_pred),4)\n",
    "LS_CS  = round(CVS(regressor_ls, x, y, cv=5).mean(),4)\n",
    "\n",
    "print(f\" Mean Absolute Error: {LS_MAE}\\n\")\n",
    "print(f\" Mean Squared Error: {LS_MSE}\\n\")\n",
    "print(f\" R^2 Score: {LS_R_2}\\n\")\n",
    "cross_val(regressor_ls,Lasso(alpha = 0.05),x,y,5)"
   ]
  },
  {
   "cell_type": "code",
   "execution_count": 78,
   "metadata": {
    "execution": {
     "iopub.execute_input": "2021-08-17T05:59:20.649353Z",
     "iopub.status.busy": "2021-08-17T05:59:20.648494Z",
     "iopub.status.idle": "2021-08-17T05:59:20.658303Z",
     "shell.execute_reply": "2021-08-17T05:59:20.657744Z",
     "shell.execute_reply.started": "2021-08-07T08:00:14.85788Z"
    },
    "papermill": {
     "duration": 0.119946,
     "end_time": "2021-08-17T05:59:20.658431",
     "exception": false,
     "start_time": "2021-08-17T05:59:20.538485",
     "status": "completed"
    },
    "tags": []
   },
   "outputs": [],
   "source": [
    "Lasso_Regressor=pd.DataFrame({'y_test':y_test,'prediction':y_pred})\n",
    "Lasso_Regressor.to_csv(\"Lasso Regressor.csv\")    "
   ]
  },
  {
   "cell_type": "markdown",
   "metadata": {
    "papermill": {
     "duration": 0.105751,
     "end_time": "2021-08-17T05:59:20.869771",
     "exception": false,
     "start_time": "2021-08-17T05:59:20.764020",
     "status": "completed"
    },
    "tags": []
   },
   "source": [
    "## 4) XGBoost Regressor"
   ]
  },
  {
   "cell_type": "code",
   "execution_count": 79,
   "metadata": {
    "execution": {
     "iopub.execute_input": "2021-08-17T05:59:21.089463Z",
     "iopub.status.busy": "2021-08-17T05:59:21.088855Z",
     "iopub.status.idle": "2021-08-17T05:59:26.300510Z",
     "shell.execute_reply": "2021-08-17T05:59:26.299619Z",
     "shell.execute_reply.started": "2021-08-07T08:01:09.084365Z"
    },
    "papermill": {
     "duration": 5.324962,
     "end_time": "2021-08-17T05:59:26.300650",
     "exception": false,
     "start_time": "2021-08-17T05:59:20.975688",
     "status": "completed"
    },
    "tags": []
   },
   "outputs": [
    {
     "name": "stdout",
     "output_type": "stream",
     "text": [
      " Mean Absolute Error: 774.61\n",
      "\n",
      " Mean Squared Error: 1199975.18\n",
      "\n",
      " R^2 Score: 0.59\n",
      "\n",
      "XGBRFRegressor(base_score=0.5, booster='gbtree', colsample_bylevel=1,\n",
      "               colsample_bytree=1, gamma=0, gpu_id=-1, importance_type='gain',\n",
      "               interaction_constraints='', max_delta_step=0, max_depth=6,\n",
      "               min_child_weight=1, missing=nan, monotone_constraints='()',\n",
      "               n_estimators=100, n_jobs=8, num_parallel_tree=100,\n",
      "               objective='reg:squarederror', random_state=0, reg_alpha=0,\n",
      "               scale_pos_weight=1, tree_method='exact', validate_parameters=1,\n",
      "               verbosity=None) Scores:\n",
      "0.61\n",
      "0.58\n",
      "0.57\n",
      "0.6\n",
      "0.61\n",
      "Average XGBRFRegressor(base_score=0.5, booster='gbtree', colsample_bylevel=1,\n",
      "               colsample_bytree=1, gamma=0, gpu_id=-1, importance_type='gain',\n",
      "               interaction_constraints='', max_delta_step=0, max_depth=6,\n",
      "               min_child_weight=1, missing=nan, monotone_constraints='()',\n",
      "               n_estimators=100, n_jobs=8, num_parallel_tree=100,\n",
      "               objective='reg:squarederror', random_state=0, reg_alpha=0,\n",
      "               scale_pos_weight=1, tree_method='exact', validate_parameters=1,\n",
      "               verbosity=None) score: 0.5935\n"
     ]
    }
   ],
   "source": [
    "#ML model\n",
    "from xgboost import XGBRFRegressor\n",
    "\n",
    "#model\n",
    "regressor_xgb = XGBRFRegressor()\n",
    "\n",
    "#fit\n",
    "regressor_xgb.fit(x_train, y_train)\n",
    "\n",
    "#predict\n",
    "y_pred = regressor_xgb.predict(x_test)\n",
    "\n",
    "#score variables\n",
    "XGB_MAE = round(MAE(y_test, y_pred),2)\n",
    "XGB_MSE = round(MSE(y_test, y_pred),2)\n",
    "XGB_R_2 = round(R2(y_test, y_pred),4)\n",
    "XGB_CS  = round(CVS(regressor_xgb, x, y, cv=5).mean(),4)\n",
    "\n",
    "print(f\" Mean Absolute Error: {XGB_MAE}\\n\")\n",
    "print(f\" Mean Squared Error: {XGB_MSE}\\n\")\n",
    "print(f\" R^2 Score: {XGB_R_2}\\n\")\n",
    "cross_val(regressor_xgb,XGBRFRegressor(alpha = 0.05),x,y,5)"
   ]
  },
  {
   "cell_type": "code",
   "execution_count": 80,
   "metadata": {
    "execution": {
     "iopub.execute_input": "2021-08-17T05:59:26.518099Z",
     "iopub.status.busy": "2021-08-17T05:59:26.517245Z",
     "iopub.status.idle": "2021-08-17T05:59:26.525852Z",
     "shell.execute_reply": "2021-08-17T05:59:26.526254Z",
     "shell.execute_reply.started": "2021-08-07T08:02:13.806317Z"
    },
    "papermill": {
     "duration": 0.120104,
     "end_time": "2021-08-17T05:59:26.526423",
     "exception": false,
     "start_time": "2021-08-17T05:59:26.406319",
     "status": "completed"
    },
    "tags": []
   },
   "outputs": [],
   "source": [
    "XGBoost_Regressor=pd.DataFrame({'y_test':y_test,'prediction':y_pred})\n",
    "XGBoost_Regressor.to_csv(\"XGBoost Regressor.csv\") "
   ]
  },
  {
   "cell_type": "markdown",
   "metadata": {
    "papermill": {
     "duration": 0.105981,
     "end_time": "2021-08-17T05:59:26.738917",
     "exception": false,
     "start_time": "2021-08-17T05:59:26.632936",
     "status": "completed"
    },
    "tags": []
   },
   "source": [
    "## 5) Ridge Regressor"
   ]
  },
  {
   "cell_type": "code",
   "execution_count": 81,
   "metadata": {
    "execution": {
     "iopub.execute_input": "2021-08-17T05:59:26.969180Z",
     "iopub.status.busy": "2021-08-17T05:59:26.968524Z",
     "iopub.status.idle": "2021-08-17T05:59:27.112589Z",
     "shell.execute_reply": "2021-08-17T05:59:27.114908Z",
     "shell.execute_reply.started": "2021-08-07T08:02:46.733362Z"
    },
    "papermill": {
     "duration": 0.269445,
     "end_time": "2021-08-17T05:59:27.115282",
     "exception": false,
     "start_time": "2021-08-17T05:59:26.845837",
     "status": "completed"
    },
    "tags": []
   },
   "outputs": [
    {
     "name": "stdout",
     "output_type": "stream",
     "text": [
      " Mean Absolute Error: 851.31\n",
      "\n",
      " Mean Squared Error: 1275582.84\n",
      "\n",
      " R^2 Score: 0.5642\n",
      "\n",
      "Ridge(normalize=True) Scores:\n",
      "0.38\n",
      "0.38\n",
      "0.38\n",
      "0.37\n",
      "0.38\n",
      "Average Ridge(normalize=True) score: 0.376\n"
     ]
    }
   ],
   "source": [
    "#ML model\n",
    "from sklearn.linear_model import Ridge\n",
    "\n",
    "#model\n",
    "regressor_rd = Ridge(normalize=True)\n",
    "#fit\n",
    "regressor_rd.fit(x_train,y_train)\n",
    "\n",
    "#predict\n",
    "y_pred = regressor_ls.predict(x_test)\n",
    "\n",
    "#score variables\n",
    "RD_MAE = round(MAE(y_test, y_pred),2)\n",
    "RD_MSE = round(MSE(y_test, y_pred),2)\n",
    "RD_R_2 = round(R2(y_test, y_pred),4)\n",
    "RD_CS  = round(CVS(regressor_rd, x, y, cv=5).mean(),4)\n",
    "\n",
    "print(f\" Mean Absolute Error: {RD_MAE}\\n\")\n",
    "print(f\" Mean Squared Error: {RD_MSE}\\n\")\n",
    "print(f\" R^2 Score: {RD_R_2}\\n\")\n",
    "cross_val(regressor_rd,Ridge(normalize=True),x,y,5)"
   ]
  },
  {
   "cell_type": "code",
   "execution_count": 82,
   "metadata": {
    "execution": {
     "iopub.execute_input": "2021-08-17T05:59:27.398013Z",
     "iopub.status.busy": "2021-08-17T05:59:27.397080Z",
     "iopub.status.idle": "2021-08-17T05:59:27.407195Z",
     "shell.execute_reply": "2021-08-17T05:59:27.406722Z",
     "shell.execute_reply.started": "2021-08-07T08:03:05.298219Z"
    },
    "papermill": {
     "duration": 0.125272,
     "end_time": "2021-08-17T05:59:27.407342",
     "exception": false,
     "start_time": "2021-08-17T05:59:27.282070",
     "status": "completed"
    },
    "tags": []
   },
   "outputs": [],
   "source": [
    "Ridge_Regressor=pd.DataFrame({'y_test':y_test,'prediction':y_pred})\n",
    "Ridge_Regressor.to_csv(\"Ridge Regressor.csv\")  "
   ]
  },
  {
   "cell_type": "markdown",
   "metadata": {
    "papermill": {
     "duration": 0.106573,
     "end_time": "2021-08-17T05:59:27.622178",
     "exception": false,
     "start_time": "2021-08-17T05:59:27.515605",
     "status": "completed"
    },
    "tags": []
   },
   "source": [
    "# Conclusion"
   ]
  },
  {
   "cell_type": "code",
   "execution_count": 83,
   "metadata": {
    "execution": {
     "iopub.execute_input": "2021-08-17T05:59:27.852252Z",
     "iopub.status.busy": "2021-08-17T05:59:27.851379Z",
     "iopub.status.idle": "2021-08-17T05:59:27.855389Z",
     "shell.execute_reply": "2021-08-17T05:59:27.854837Z",
     "shell.execute_reply.started": "2021-08-07T08:03:29.972074Z"
    },
    "papermill": {
     "duration": 0.126192,
     "end_time": "2021-08-17T05:59:27.855518",
     "exception": false,
     "start_time": "2021-08-17T05:59:27.729326",
     "status": "completed"
    },
    "tags": []
   },
   "outputs": [
    {
     "data": {
      "text/html": [
       "<div>\n",
       "<style scoped>\n",
       "    .dataframe tbody tr th:only-of-type {\n",
       "        vertical-align: middle;\n",
       "    }\n",
       "\n",
       "    .dataframe tbody tr th {\n",
       "        vertical-align: top;\n",
       "    }\n",
       "\n",
       "    .dataframe thead th {\n",
       "        text-align: right;\n",
       "    }\n",
       "</style>\n",
       "<table border=\"1\" class=\"dataframe\">\n",
       "  <thead>\n",
       "    <tr style=\"text-align: right;\">\n",
       "      <th></th>\n",
       "      <th>Models</th>\n",
       "      <th>MAE</th>\n",
       "      <th>MSE</th>\n",
       "      <th>R^2</th>\n",
       "      <th>Cross Validation Score</th>\n",
       "    </tr>\n",
       "  </thead>\n",
       "  <tbody>\n",
       "    <tr>\n",
       "      <th>3</th>\n",
       "      <td>XGBoost Regressor</td>\n",
       "      <td>774.61</td>\n",
       "      <td>1199975.18</td>\n",
       "      <td>0.5900</td>\n",
       "      <td>0.5935</td>\n",
       "    </tr>\n",
       "    <tr>\n",
       "      <th>1</th>\n",
       "      <td>Random Forest Regressor</td>\n",
       "      <td>780.11</td>\n",
       "      <td>1200066.53</td>\n",
       "      <td>0.5900</td>\n",
       "      <td>0.5948</td>\n",
       "    </tr>\n",
       "    <tr>\n",
       "      <th>2</th>\n",
       "      <td>Lasso Regressor</td>\n",
       "      <td>851.31</td>\n",
       "      <td>1275582.84</td>\n",
       "      <td>0.5642</td>\n",
       "      <td>0.5613</td>\n",
       "    </tr>\n",
       "    <tr>\n",
       "      <th>4</th>\n",
       "      <td>Ridge Regressor</td>\n",
       "      <td>851.31</td>\n",
       "      <td>1275582.84</td>\n",
       "      <td>0.5642</td>\n",
       "      <td>0.3760</td>\n",
       "    </tr>\n",
       "    <tr>\n",
       "      <th>0</th>\n",
       "      <td>Linear Regression</td>\n",
       "      <td>851.52</td>\n",
       "      <td>1275654.43</td>\n",
       "      <td>0.5642</td>\n",
       "      <td>0.5613</td>\n",
       "    </tr>\n",
       "  </tbody>\n",
       "</table>\n",
       "</div>"
      ],
      "text/plain": [
       "                    Models     MAE         MSE     R^2  Cross Validation Score\n",
       "3        XGBoost Regressor  774.61  1199975.18  0.5900                  0.5935\n",
       "1  Random Forest Regressor  780.11  1200066.53  0.5900                  0.5948\n",
       "2          Lasso Regressor  851.31  1275582.84  0.5642                  0.5613\n",
       "4          Ridge Regressor  851.31  1275582.84  0.5642                  0.3760\n",
       "0        Linear Regression  851.52  1275654.43  0.5642                  0.5613"
      ]
     },
     "execution_count": 83,
     "metadata": {},
     "output_type": "execute_result"
    }
   ],
   "source": [
    "MAE= [LR_MAE,RFR_MAE,LS_MAE,XGB_MAE,RD_MAE]\n",
    "MSE= [LR_MSE,RFR_MSE,LS_MSE,XGB_MSE,RD_MSE]\n",
    "R_2= [LR_R_2,RFR_R_2,LS_R_2,XGB_R_2,RD_R_2]\n",
    "Cross_score= [LR_CS,RFR_CS,LS_CS,XGB_CS,RD_CS]\n",
    "\n",
    "Models = pd.DataFrame({\n",
    "    'Models': [\"Linear Regression\",\"Random Forest Regressor\",\"Lasso Regressor\",\"XGBoost Regressor\",\"Ridge Regressor\"],\n",
    "    'MAE': MAE, 'MSE': MSE, 'R^2':R_2, 'Cross Validation Score':Cross_score})\n",
    "Models.sort_values(by='MAE', ascending=True)"
   ]
  },
  {
   "cell_type": "markdown",
   "metadata": {
    "papermill": {
     "duration": 0.10721,
     "end_time": "2021-08-17T05:59:28.070582",
     "exception": false,
     "start_time": "2021-08-17T05:59:27.963372",
     "status": "completed"
    },
    "tags": []
   },
   "source": [
    "# Realizations"
   ]
  },
  {
   "cell_type": "markdown",
   "metadata": {
    "papermill": {
     "duration": 0.10638,
     "end_time": "2021-08-17T05:59:28.284693",
     "exception": false,
     "start_time": "2021-08-17T05:59:28.178313",
     "status": "completed"
    },
    "tags": []
   },
   "source": [
    "1. XGBoost Regressor and Random Forest are best performing Models, we can use both to check on test data set and find out which perform better\n",
    "2. MRP has huge correlation with the Outlet Sales\n",
    "3. For better performance we need parameter tuning after selecting the suitable model"
   ]
  },
  {
   "cell_type": "markdown",
   "metadata": {
    "papermill": {
     "duration": 0.10636,
     "end_time": "2021-08-17T05:59:28.498093",
     "exception": false,
     "start_time": "2021-08-17T05:59:28.391733",
     "status": "completed"
    },
    "tags": []
   },
   "source": [
    "Some Defination:\n",
    "\n",
    "a) R-Squared: R-squared is a statistical measure that represents the proportion of the variance for a dependent variable that's explained by an independent variable or variables in a regression model.\n",
    "\n",
    "If the R2 of a model is 0.50, then approximately half of the observed variation can be explained by the model's inputs.\n",
    "\n",
    "b) MAE and MSE: MAE : The mean absolute error (MAE) is a measure of errors between paired observations expressing the same phenomenon. MSE : The mean squared error tells you how close a regression line is to a set of points. It does this by taking the distances from the points to the regression line (these distances are the “errors”) and squaring them.\n",
    "\n",
    "\n",
    "c) RMSE: RMSE is a measure of how spread out these residuals are. In other words, it tells you how concentrated the data is around the line of best fit.\n"
   ]
  },
  {
   "cell_type": "code",
   "execution_count": null,
   "metadata": {
    "papermill": {
     "duration": 0.105846,
     "end_time": "2021-08-17T05:59:29.352846",
     "exception": false,
     "start_time": "2021-08-17T05:59:29.247000",
     "status": "completed"
    },
    "tags": []
   },
   "outputs": [],
   "source": []
  },
  {
   "cell_type": "code",
   "execution_count": null,
   "metadata": {},
   "outputs": [],
   "source": []
  },
  {
   "cell_type": "code",
   "execution_count": null,
   "metadata": {},
   "outputs": [],
   "source": []
  }
 ],
 "metadata": {
  "kernelspec": {
   "display_name": "Python 3",
   "language": "python",
   "name": "python3"
  },
  "language_info": {
   "codemirror_mode": {
    "name": "ipython",
    "version": 3
   },
   "file_extension": ".py",
   "mimetype": "text/x-python",
   "name": "python",
   "nbconvert_exporter": "python",
   "pygments_lexer": "ipython3",
   "version": "3.8.5"
  },
  "papermill": {
   "default_parameters": {},
   "duration": 78.06623,
   "end_time": "2021-08-17T05:59:31.130598",
   "environment_variables": {},
   "exception": null,
   "input_path": "__notebook__.ipynb",
   "output_path": "__notebook__.ipynb",
   "parameters": {},
   "start_time": "2021-08-17T05:58:13.064368",
   "version": "2.3.3"
  }
 },
 "nbformat": 4,
 "nbformat_minor": 5
}
